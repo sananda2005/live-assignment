{
  "nbformat": 4,
  "nbformat_minor": 0,
  "metadata": {
    "colab": {
      "provenance": []
    },
    "kernelspec": {
      "name": "python3",
      "display_name": "Python 3"
    },
    "language_info": {
      "name": "python"
    }
  },
  "cells": [
    {
      "cell_type": "markdown",
      "source": [
        "1.1  Answer to these questions with at least one example for each .\n"
      ],
      "metadata": {
        "id": "ZeuSm17R8bVI"
      }
    },
    {
      "cell_type": "code",
      "execution_count": null,
      "metadata": {
        "id": "BR_jvams7Ce3"
      },
      "outputs": [],
      "source": [
        "#What is the difference between static and dynamic variables in Python?"
      ]
    },
    {
      "cell_type": "markdown",
      "source": [
        "Difference Between Static and Dynamic Variables in Python\n",
        "\n",
        "**Static Variables:** Also known as class variables, static variables are shared among all instances of a class. They are defined at the class level and can be accessed using the class name or an instance of the class.\n",
        "\n",
        "**Dynamic Variables:** Also known as instance variables, dynamic variables are unique to each instance of a class. They are defined within methods (typically __init__) and are prefixed with self."
      ],
      "metadata": {
        "id": "bTbdOpm08zd9"
      }
    },
    {
      "cell_type": "code",
      "source": [
        "class MyClass:\n",
        "    # Static variable (class variable)\n",
        "    static_var = \"I am a static variable\"\n",
        "\n",
        "# Creating instances\n",
        "obj1 = MyClass()\n",
        "obj2 = MyClass()\n",
        "\n",
        "# Accessing static variable through class\n",
        "print(MyClass.static_var)  # Output: I am a static variable\n",
        "\n",
        "# Accessing static variable through instances\n",
        "print(obj1.static_var)     # Output: I am a static variable\n",
        "print(obj2.static_var)     # Output: I am a static variable\n",
        "\n",
        "# Modifying static variable through class\n",
        "MyClass.static_var = \"Changed static variable\"\n",
        "print(obj1.static_var)     # Output: Changed static variable\n",
        "print(obj2.static_var)     # Output: Changed static variable\n"
      ],
      "metadata": {
        "id": "hVlHYcV19Na8"
      },
      "execution_count": null,
      "outputs": []
    },
    {
      "cell_type": "code",
      "source": [
        "class MyClass:\n",
        "    def __init__(self, dynamic_var):\n",
        "        # Dynamic variable (instance variable)\n",
        "        self.dynamic_var = dynamic_var\n",
        "\n",
        "# Creating instances with different dynamic variables\n",
        "obj1 = MyClass(\"I am a dynamic variable in obj1\")\n",
        "obj2 = MyClass(\"I am a dynamic variable in obj2\")\n",
        "\n",
        "# Accessing dynamic variables through instances\n",
        "print(obj1.dynamic_var)    # Output: I am a dynamic variable in obj1\n",
        "print(obj2.dynamic_var)    # Output: I am a dynamic variable in obj2\n",
        "\n",
        "# Modifying dynamic variable of obj1\n",
        "obj1.dynamic_var = \"Changed dynamic variable in obj1\"\n",
        "print(obj1.dynamic_var)    # Output: Changed dynamic variable in obj1\n",
        "print(obj2.dynamic_var)    # Output: I am a dynamic variable in obj2\n"
      ],
      "metadata": {
        "id": "PVRj42XB9X2e"
      },
      "execution_count": null,
      "outputs": []
    },
    {
      "cell_type": "code",
      "source": [
        "#• Explain the purpose of \"pop\",\"popitem\",\"clear()\" in a dictionary with suitable examples."
      ],
      "metadata": {
        "id": "gr_C3Jjh9mg-"
      },
      "execution_count": null,
      "outputs": []
    },
    {
      "cell_type": "markdown",
      "source": [
        "In Python, dictionaries have several methods to manipulate the data they contain. The methods pop(), popitem(), and clear() are used to remove elements from a dictionary. Here is an explanation of each method along with suitable examples.\n",
        "\n",
        "pop()\n",
        "Purpose: The pop() method removes the specified key from the dictionary and returns its value. If the key is not found, it raises a KeyError unless a default value is provided.\n",
        "\n",
        "Example:"
      ],
      "metadata": {
        "id": "QpMc5zVR9dnQ"
      }
    },
    {
      "cell_type": "code",
      "source": [
        "my_dict = {'a': 1, 'b': 2, 'c': 3}\n",
        "# Remove and return the value for the key 'b'\n",
        "value = my_dict.pop('b')\n",
        "print(value)  # Output: 2\n",
        "print(my_dict)  # Output: {'a': 1, 'c': 3}\n",
        "\n",
        "# Remove a key that doesn't exist with a default value\n",
        "value = my_dict.pop('d', 'Key not found')\n",
        "print(value)  # Output: Key not found\n"
      ],
      "metadata": {
        "id": "708I90hb92mv"
      },
      "execution_count": null,
      "outputs": []
    },
    {
      "cell_type": "markdown",
      "source": [
        "popitem()\n",
        "Purpose: The popitem() method removes and returns the last (key, value) pair inserted into the dictionary. This method is useful for implementing LIFO (last-in, first-out) order. If the dictionary is empty, it raises a KeyError.\n",
        "\n",
        "Example:"
      ],
      "metadata": {
        "id": "u-XPAiTg96Iz"
      }
    },
    {
      "cell_type": "code",
      "source": [
        "my_dict = {'a': 1, 'b': 2, 'c': 3}\n",
        "# Remove and return the last inserted item\n",
        "item = my_dict.popitem()\n",
        "print(item)  # Output: ('c', 3)\n",
        "print(my_dict)  # Output: {'a': 1, 'b': 2}\n",
        "\n",
        "# Remove another item\n",
        "item = my_dict.popitem()\n",
        "print(item)  # Output: ('b', 2)\n",
        "print(my_dict)  # Output: {'a': 1}\n"
      ],
      "metadata": {
        "id": "NgqzTrbj9_8S"
      },
      "execution_count": null,
      "outputs": []
    },
    {
      "cell_type": "markdown",
      "source": [
        "clear()\n",
        "Purpose: The clear() method removes all items from the dictionary, resulting in an empty dictionary.\n",
        "\n",
        "Example:"
      ],
      "metadata": {
        "id": "GRD513-X-Dmk"
      }
    },
    {
      "cell_type": "code",
      "source": [
        "my_dict = {'a': 1, 'b': 2, 'c': 3}\n",
        "# Clear all items from the dictionary\n",
        "my_dict.clear()\n",
        "print(my_dict)  # Output: {}\n"
      ],
      "metadata": {
        "id": "kfQUk6K1-JWc"
      },
      "execution_count": null,
      "outputs": []
    },
    {
      "cell_type": "markdown",
      "source": [
        "pop(key[, default]): Removes and returns the value for the specified key. Raises KeyError if the key is not found and no default is provided.\n",
        "\n",
        "popitem(): Removes and returns the last inserted (key, value) pair. Raises KeyError if the dictionary is empty.\n",
        "\n",
        "clear(): Removes all items from the dictionary, leaving it empty."
      ],
      "metadata": {
        "id": "G6FwOuKy-WBq"
      }
    },
    {
      "cell_type": "code",
      "source": [
        "#What do you mean by FrozenSet? Explain it with suitable examples."
      ],
      "metadata": {
        "id": "LS_dL9my-aCT"
      },
      "execution_count": null,
      "outputs": []
    },
    {
      "cell_type": "markdown",
      "source": [
        "A FrozenSet in Python is an immutable collection of unique elements, similar to a set, but once created, its elements cannot be changed. Here's a brief example:\n",
        "In this example, frozen_set is a frozenset containing unique elements [1, 2, 3, 4]. Once created, you cannot modify its contents (e.g., adding or removing elements), making it useful for scenarios where immutability is desired."
      ],
      "metadata": {
        "id": "0ySd5jGt-k88"
      }
    },
    {
      "cell_type": "code",
      "source": [
        "# Creating a FrozenSet\n",
        "frozen_set = frozenset([1, 2, 3, 4, 4])\n",
        "\n",
        "# Trying to add elements (will raise an error)\n",
        "# frozen_set.add(5)\n",
        "\n",
        "print(frozen_set)  # Output: frozenset({1, 2, 3, 4})\n"
      ],
      "metadata": {
        "id": "U2WoIndfKkfC"
      },
      "execution_count": null,
      "outputs": []
    },
    {
      "cell_type": "code",
      "source": [
        "#• Differentiate between mutable and immutable data types in Python and give examples of mutable and immutable data types.\n"
      ],
      "metadata": {
        "id": "v_aLUApfKnI3"
      },
      "execution_count": null,
      "outputs": []
    },
    {
      "cell_type": "markdown",
      "source": [
        "Mutable data types can be changed after creation (e.g., lists, dictionaries); immutable data types cannot be changed once created (e.g., tuples, strings).\n",
        "Examples:\n",
        "\n",
        "Mutable: list (e.g., [1, 2, 3]), dict (e.g., {'a': 1, 'b': 2})\n",
        "Immutable: tuple (e.g., (1, 2, 3)), str (e.g., 'hello')\n",
        "\n",
        "\n",
        "\n",
        "\n",
        "\n"
      ],
      "metadata": {
        "id": "fLWODQtTRULY"
      }
    },
    {
      "cell_type": "code",
      "source": [
        "#• What is __init__?Explain with an example.\n"
      ],
      "metadata": {
        "id": "XcuhkcXSPvKE"
      },
      "execution_count": null,
      "outputs": []
    },
    {
      "cell_type": "markdown",
      "source": [
        "__init__ is a special method in Python classes used to initialize objects when they are created, allowing you to set initial values for attributes.\n",
        "\n",
        "In this example, __init__ initializes each instance of Car with make and model attributes (\"Toyota\" and \"Camry\" for my_car)."
      ],
      "metadata": {
        "id": "xubS48iNRX5e"
      }
    },
    {
      "cell_type": "code",
      "source": [
        "class Car:\n",
        "    def __init__(self, make, model):\n",
        "        self.make = make\n",
        "        self.model = model\n",
        "\n",
        "# Creating an instance of Car\n",
        "my_car = Car(\"Toyota\", \"Camry\")\n"
      ],
      "metadata": {
        "id": "dGpH44J8RlL6"
      },
      "execution_count": null,
      "outputs": []
    },
    {
      "cell_type": "code",
      "source": [
        "#• What is docstring in Python?Explain with an example."
      ],
      "metadata": {
        "id": "cCO3LoFTPxqC"
      },
      "execution_count": null,
      "outputs": []
    },
    {
      "cell_type": "markdown",
      "source": [
        "A docstring in Python is a string literal that appears right after the definition of a function, method, class, or module. It is used to describe what the object does. Docstrings are accessed using the __doc__ attribute.\n",
        "\n",
        "In this example, \"\"\"This function greets the person with the given name.\"\"\" is the docstring for the greet function. It provides a concise description of what the function does."
      ],
      "metadata": {
        "id": "m8hmdNGMRpS0"
      }
    },
    {
      "cell_type": "code",
      "source": [
        "def greet(name):\n",
        "    \"\"\"\n",
        "    This function greets the person with the given name.\n",
        "    \"\"\"\n",
        "    print(f\"Hello, {name}!\")\n",
        "\n",
        "# Accessing the docstring\n",
        "print(greet.__doc__)\n"
      ],
      "metadata": {
        "id": "sgpe1a-UfsrF"
      },
      "execution_count": null,
      "outputs": []
    },
    {
      "cell_type": "code",
      "source": [
        "#• What are unit tests in Python?\n"
      ],
      "metadata": {
        "id": "VSxA129qP6DF"
      },
      "execution_count": null,
      "outputs": []
    },
    {
      "cell_type": "markdown",
      "source": [
        "Unit tests in Python are automated tests written to verify that specific parts of code (like functions or classes) produce expected results under different conditions, ensuring code correctness and reliability.\n",
        "They are an integral part of Test-Driven Development (TDD) and Continuous Integration (CI) workflows, contributing to software quality by catching bugs early in the development process."
      ],
      "metadata": {
        "id": "uaAmMNVafx1M"
      }
    },
    {
      "cell_type": "code",
      "source": [
        "#• What is break, continue and pass in Python?\n",
        "\n"
      ],
      "metadata": {
        "id": "l1wJWpbkP9Nm"
      },
      "execution_count": null,
      "outputs": []
    },
    {
      "cell_type": "markdown",
      "source": [
        "break: Terminates the current loop statement (e.g., for or while) and transfers execution to the statement immediately following the loop.\n",
        "\n",
        "continue: Skips the current iteration of a loop (e.g., for or while) and continues with the next iteration.\n",
        "\n",
        "pass: Acts as a placeholder in Python syntax, doing nothing when executed; used as a filler for code blocks where no action is needed syntactically."
      ],
      "metadata": {
        "id": "-QLRXlOZgQGy"
      }
    },
    {
      "cell_type": "code",
      "source": [
        "#• What is the use of self in Python?\n"
      ],
      "metadata": {
        "id": "QML4R2roQEvl"
      },
      "execution_count": null,
      "outputs": []
    },
    {
      "cell_type": "markdown",
      "source": [
        "In Python, self is used inside methods to refer to the instance of the class itself, allowing methods to access and manipulate instance variables and other methods within the same class. It is a convention in Python but is not a reserved keyword.\n",
        "\n",
        "In this example:\n",
        "\n",
        "self.make and self.model are instance variables initialized in the __init__ method using self.\n",
        "display_info is a method that uses self to access and print the instance variables make and model of the Car object (my_car)."
      ],
      "metadata": {
        "id": "YFAFJzV2hDBH"
      }
    },
    {
      "cell_type": "code",
      "source": [
        "class Car:\n",
        "    def __init__(self, make, model):\n",
        "        self.make = make\n",
        "        self.model = model\n",
        "\n",
        "    def display_info(self):\n",
        "        print(f\"Car make: {self.make}, model: {self.model}\")\n",
        "\n",
        "# Creating an instance of Car\n",
        "my_car = Car(\"Toyota\", \"Camry\")\n",
        "\n",
        "# Calling a method using the instance\n",
        "my_car.display_info()\n"
      ],
      "metadata": {
        "id": "GPtyiLD1hFMl"
      },
      "execution_count": null,
      "outputs": []
    },
    {
      "cell_type": "code",
      "source": [
        "#• What are global, protected and private attributes in Python?\n"
      ],
      "metadata": {
        "id": "fjSraKbiQP77"
      },
      "execution_count": null,
      "outputs": []
    },
    {
      "cell_type": "markdown",
      "source": [
        "Global Attributes: These are accessible throughout the entire program, regardless of scope.\n",
        "\n",
        "Protected Attributes: By convention, attributes prefixed with a single underscore _ are intended to be protected, indicating that they should not be accessed directly outside the class or its subclasses unless necessary.\n",
        "\n",
        "Private Attributes: Attributes prefixed with double underscore __ are considered private, meaning they cannot be accessed directly from outside the class. Python name-mangles these attributes to avoid accidental overriding in subclasses."
      ],
      "metadata": {
        "id": "oYAMkVIimWQr"
      }
    },
    {
      "cell_type": "code",
      "source": [
        "global_var = 10\n",
        "\n",
        "def func():\n",
        "    print(global_var)  # Can access global_var\n",
        "\n",
        "func()\n"
      ],
      "metadata": {
        "id": "9md_un4pmx4u"
      },
      "execution_count": null,
      "outputs": []
    },
    {
      "cell_type": "code",
      "source": [
        "class Car:\n",
        "    def __init__(self, make, model):\n",
        "        self._make = make\n",
        "        self._model = model\n",
        "\n",
        "    def display_info(self):\n",
        "        print(f\"Car make: {self._make}, model: {self._model}\")\n",
        "\n",
        "my_car = Car(\"Toyota\", \"Camry\")\n",
        "print(my_car._make)  # Accessing protected attribute (not enforced by Python, but by convention)\n"
      ],
      "metadata": {
        "id": "bNov1pfum2AE"
      },
      "execution_count": null,
      "outputs": []
    },
    {
      "cell_type": "code",
      "source": [
        "class Car:\n",
        "    def __init__(self, make, model):\n",
        "        self.__make = make\n",
        "        self.__model = model\n",
        "\n",
        "    def display_info(self):\n",
        "        print(f\"Car make: {self.__make}, model: {self.__model}\")\n",
        "\n",
        "my_car = Car(\"Toyota\", \"Camry\")\n",
        "# print(my_car.__make)  # This would raise an AttributeError because __make is private\n"
      ],
      "metadata": {
        "id": "OTknXw5bm6hS"
      },
      "execution_count": null,
      "outputs": []
    },
    {
      "cell_type": "code",
      "source": [
        "#• What are modules and packages in Python?\n"
      ],
      "metadata": {
        "id": "JV9oKAsmQSrq"
      },
      "execution_count": null,
      "outputs": []
    },
    {
      "cell_type": "markdown",
      "source": [
        "Modules are files containing Python code that define functions, classes, and variables. They can be imported into other Python scripts to reuse code.\n",
        "\n",
        "Packages are directories containing multiple modules and an __init__.py file. They provide a hierarchical structure to organize and import modules."
      ],
      "metadata": {
        "id": "bF4xKN_0nHR4"
      }
    },
    {
      "cell_type": "code",
      "source": [
        "# Example module named mymodule.py\n",
        "def greet(name):\n",
        "    print(f\"Hello, {name}!\")\n",
        "\n",
        "# Using the module in another script\n",
        "import mymodule\n",
        "\n",
        "mymodule.greet(\"Alice\")\n"
      ],
      "metadata": {
        "id": "lMl6wV7LnNwA"
      },
      "execution_count": null,
      "outputs": []
    },
    {
      "cell_type": "code",
      "source": [
        "mypackage/\n",
        "├── __init__.py\n",
        "├── module1.py\n",
        "└── module2.py\n",
        "\n",
        "# Using modules from a package\n",
        "from mypackage import module1, module2\n",
        "\n",
        "module1.function1()\n",
        "module2.function2()"
      ],
      "metadata": {
        "id": "kiqwTOtznSjq"
      },
      "execution_count": null,
      "outputs": []
    },
    {
      "cell_type": "code",
      "source": [
        "#• What are lists and tuples? What is the key difference between the two?\n"
      ],
      "metadata": {
        "id": "wrS56bSoQVNB"
      },
      "execution_count": null,
      "outputs": []
    },
    {
      "cell_type": "markdown",
      "source": [
        "Lists are mutable sequences that can contain elements of different types and can be modified after creation using methods like append() or slicing operations.\n",
        "\n",
        "Tuples are immutable sequences that can contain elements of different types but cannot be modified after creation. They are defined using parentheses.\n",
        "\n",
        "Key Difference: Lists are mutable, meaning they can be changed after creation, while tuples are immutable and cannot be modified once created."
      ],
      "metadata": {
        "id": "EzupcasqnrQJ"
      }
    },
    {
      "cell_type": "code",
      "source": [
        "# Example of a list\n",
        "my_list = [1, 2, 3, 'apple', 'banana']\n",
        "my_list.append(4)\n",
        "print(my_list)  # Output: [1, 2, 3, 'apple', 'banana', 4]\n"
      ],
      "metadata": {
        "id": "PK1Xa0mzn9L5"
      },
      "execution_count": null,
      "outputs": []
    },
    {
      "cell_type": "code",
      "source": [
        "# Example of a tuple\n",
        "my_tuple = (1, 2, 3, 'apple', 'banana')\n",
        "# my_tuple.append(4)  # This would raise an AttributeError because tuples are immutable\n",
        "print(my_tuple)  # Output: (1, 2, 3, 'apple', 'banana')\n"
      ],
      "metadata": {
        "id": "LuSl8y91oAzQ"
      },
      "execution_count": null,
      "outputs": []
    },
    {
      "cell_type": "code",
      "source": [
        "#• What is an Interpreted language & dynamically typed language?Write 5 differences between them.\n"
      ],
      "metadata": {
        "id": "5X-SiSUPQYuy"
      },
      "execution_count": null,
      "outputs": []
    },
    {
      "cell_type": "markdown",
      "source": [
        "Interpreted Language:\n",
        "\n",
        "Executes code directly without compilation.\n",
        "Typically slower than compiled languages.\n",
        "Examples include Python, JavaScript, and Ruby.\n",
        "Dynamically Typed Language:\n",
        "\n",
        "Variable types are determined at runtime.\n",
        "Allows flexibility but may lead to runtime errors.\n",
        "Examples include Python, JavaScript, and Ruby.\n",
        "Differences:\n",
        "\n",
        "Execution Method:\n",
        "\n",
        "Interpreted languages execute code line-by-line without prior compilation.\n",
        "Dynamically typed languages determine variable types at runtime.\n",
        "Speed:\n",
        "\n",
        "Interpreted languages tend to be slower because they translate code during execution.\n",
        "Dynamically typed languages may involve runtime type checks, impacting performance.\n",
        "Error Detection:\n",
        "\n",
        "Interpreted languages often catch errors during runtime.\n",
        "Dynamically typed languages may encounter type-related errors during execution.\n",
        "Flexibility vs. Safety:\n",
        "\n",
        "Interpreted languages provide flexibility with immediate feedback but less safety.\n",
        "Dynamically typed languages offer flexibility but may result in unexpected runtime errors."
      ],
      "metadata": {
        "id": "pblAxJfXolll"
      }
    },
    {
      "cell_type": "code",
      "source": [
        "# Python is both an interpreted and dynamically typed language:\n",
        "# Interpreted and dynamically typed example in Python\n",
        "x = 10\n",
        "x = \"Hello, World!\"  # Valid in a dynamically typed language like Python\n",
        "print(x)\n"
      ],
      "metadata": {
        "id": "5YRf3qXBoso6"
      },
      "execution_count": null,
      "outputs": []
    },
    {
      "cell_type": "code",
      "source": [
        "#• What are Dict and List comprehensions?\n"
      ],
      "metadata": {
        "id": "QpHqrBXWQbo6"
      },
      "execution_count": null,
      "outputs": []
    },
    {
      "cell_type": "markdown",
      "source": [
        "List Comprehension: A concise way to create lists by iterating over an iterable and applying an expression to each element.\n",
        "\n",
        "Dict Comprehension: Similar to list comprehension but creates dictionaries instead of lists, allowing you to generate dictionaries from iterables.\n",
        "\n",
        "Key Differences:\n",
        "\n",
        "List comprehensions create lists by iterating over an iterable.\n",
        "Dict comprehensions create dictionaries by iterating over an iterable and specifying key-value pairs.\n",
        "Both comprehensions are concise and efficient ways to generate collections in Python."
      ],
      "metadata": {
        "id": "O2t45IpWrI46"
      }
    },
    {
      "cell_type": "code",
      "source": [
        "# Example of list comprehension\n",
        "squares = [x**2 for x in range(1, 6)]\n",
        "print(squares)  # Output: [1, 4, 9, 16, 25]\n"
      ],
      "metadata": {
        "id": "WLRvSw34rlve"
      },
      "execution_count": null,
      "outputs": []
    },
    {
      "cell_type": "code",
      "source": [
        "# Example of dict comprehension\n",
        "squares_dict = {x: x**2 for x in range(1, 6)}\n",
        "print(squares_dict)  # Output: {1: 1, 2: 4, 3: 9, 4: 16, 5: 25}\n"
      ],
      "metadata": {
        "id": "rsvIPHxXrqGU"
      },
      "execution_count": null,
      "outputs": []
    },
    {
      "cell_type": "code",
      "source": [
        "#• What are decorators in Python? Explain it with an example.Write down its use cases.\n"
      ],
      "metadata": {
        "id": "pG3THCGzQfU_"
      },
      "execution_count": null,
      "outputs": []
    },
    {
      "cell_type": "markdown",
      "source": [
        "Decorators in Python are a way to modify or enhance the behavior of functions or methods. They allow you to wrap another function in order to extend its behavior without permanently modifying it.\n",
        "\n",
        "\n",
        "Use Cases\n",
        "Logging: Adding logging to functions.\n",
        "Authorization: Checking if a user has permissions to execute a function.\n",
        "Caching: Storing results of expensive function calls and reusing cached results.\n",
        "Validation: Validating inputs to functions.\n",
        "Measurement: Measuring the execution time of functions.\n",
        "\n",
        "In this example, my_decorator is a decorator that adds extra behavior before and after the say_hello function.\n"
      ],
      "metadata": {
        "id": "xB2y7p3CMgmK"
      }
    },
    {
      "cell_type": "code",
      "source": [
        "def my_decorator(func):\n",
        "    def wrapper():\n",
        "        print(\"Something is happening before the function is called.\")\n",
        "        func()\n",
        "        print(\"Something is happening after the function is called.\")\n",
        "    return wrapper\n",
        "\n",
        "@my_decorator\n",
        "def say_hello():\n",
        "    print(\"Hello!\")\n",
        "\n",
        "say_hello()\n"
      ],
      "metadata": {
        "id": "e0xNAzwNMm5N"
      },
      "execution_count": null,
      "outputs": []
    },
    {
      "cell_type": "code",
      "source": [
        "#• How is memory managed in Python?\n"
      ],
      "metadata": {
        "id": "2YLC8ZmbQiJp"
      },
      "execution_count": null,
      "outputs": []
    },
    {
      "cell_type": "markdown",
      "source": [
        "Memory management in Python is handled by the Python memory manager, which includes an in-built garbage collector for automatic recycling of unused memory.\n",
        "\n",
        "Key Points\n",
        "Reference Counting: Python uses reference counting to keep track of the number of references to each object in memory.\n",
        "Garbage Collection: When the reference count drops to zero, the memory occupied by the object is reclaimed. Python also has a cyclic garbage collector to detect and collect cyclic references.\n",
        "\n",
        "In this example, the list [1, 2, 3] is automatically removed from memory when there are no more references to it."
      ],
      "metadata": {
        "id": "6a8S_N9MNJUo"
      }
    },
    {
      "cell_type": "code",
      "source": [
        "a = [1, 2, 3]\n",
        "b = a  # Both 'a' and 'b' reference the same list\n",
        "del a  # The reference count for the list is still 1 because 'b' still references it\n",
        "del b  # The reference count drops to 0, so the memory is reclaimed by the garbage collector\n"
      ],
      "metadata": {
        "id": "zRfuqAUkNQyR"
      },
      "execution_count": null,
      "outputs": []
    },
    {
      "cell_type": "code",
      "source": [
        "#• What is lambda in Python? Why is it used?\n"
      ],
      "metadata": {
        "id": "zvMFTZYqQkpD"
      },
      "execution_count": null,
      "outputs": []
    },
    {
      "cell_type": "markdown",
      "source": [
        "A lambda in Python is an anonymous (unnamed) function defined using the lambda keyword. It can have any number of arguments but only one expression.\n",
        "\n",
        "Why Use Lambda?\n",
        "Shorter Syntax: For defining small, throwaway functions without using def.\n",
        "Inline Functions: Used in places where functions are required but defining a full function would be overkill (e.g., within map(), filter(), etc.).\n",
        "\n",
        "In this example, lambda x: x**2 defines an anonymous function that squares its input. This function is used within the map() function to apply to each element in the numbers list."
      ],
      "metadata": {
        "id": "czCR3ZfSNh7m"
      }
    },
    {
      "cell_type": "code",
      "source": [
        "# Using lambda with map to square numbers in a list\n",
        "numbers = [1, 2, 3, 4]\n",
        "squared = list(map(lambda x: x**2, numbers))\n",
        "print(squared)  # Output: [1, 4, 9, 16]\n"
      ],
      "metadata": {
        "id": "g_hBd9RjNou-"
      },
      "execution_count": null,
      "outputs": []
    },
    {
      "cell_type": "code",
      "source": [
        "#• Explain split() and join() functions in Python?\n"
      ],
      "metadata": {
        "id": "Q7SXMwu7QnYw"
      },
      "execution_count": null,
      "outputs": []
    },
    {
      "cell_type": "markdown",
      "source": [
        "split() Function\n",
        "Purpose: Splits a string into a list of substrings based on a specified delimiter (default is whitespace).\n",
        "\n",
        "join() Function\n",
        "Purpose: Joins elements of a list (or any iterable) into a single string with a specified delimiter.\n",
        "\n",
        "split() breaks a string into parts, and join() combines parts into a string."
      ],
      "metadata": {
        "id": "SOw7qtp6N4H2"
      }
    },
    {
      "cell_type": "code",
      "source": [
        "text = \"Hello World\"\n",
        "words = text.split()\n",
        "print(words)  # Output: ['Hello', 'World']\n"
      ],
      "metadata": {
        "id": "nHnnwV2yOOMh"
      },
      "execution_count": null,
      "outputs": []
    },
    {
      "cell_type": "code",
      "source": [
        "words = ['Hello', 'World']\n",
        "text = \" \".join(words)\n",
        "print(text)  # Output: \"Hello World\"\n"
      ],
      "metadata": {
        "id": "RrEyTqODORny"
      },
      "execution_count": null,
      "outputs": []
    },
    {
      "cell_type": "code",
      "source": [
        "#• What are iterators, iterable & generators in Python?\n"
      ],
      "metadata": {
        "id": "PvB6jeXaQqAD"
      },
      "execution_count": null,
      "outputs": []
    },
    {
      "cell_type": "markdown",
      "source": [
        "Iterators\n",
        "Definition: An object that allows traversal through all the elements of a collection, one at a time.\n",
        "Methods: Implements __iter__() and __next__() methods.\n",
        "\n",
        "Iterables\n",
        "Definition: An object that can return an iterator, allowing it to be looped over.\n",
        "Methods: Implements __iter__() method.\n",
        "\n",
        "Generators\n",
        "Definition: A special type of iterator created using a function that yields values one at a time.\n",
        "Methods: Uses yield keyword to produce a series of values.\n",
        "\n",
        "In summary, iterables are collections that can be looped over, iterators are objects used to traverse these collections, and generators are a convenient way to create iterators using functions and the yield keyword."
      ],
      "metadata": {
        "id": "8CebU2IJOy_H"
      }
    },
    {
      "cell_type": "code",
      "source": [
        "numbers = [1, 2, 3]\n",
        "iterator = iter(numbers)\n",
        "print(next(iterator))  # Output: 1\n",
        "print(next(iterator))  # Output: 2\n"
      ],
      "metadata": {
        "id": "sWKbEi-oPD6I"
      },
      "execution_count": null,
      "outputs": []
    },
    {
      "cell_type": "code",
      "source": [
        "numbers = [1, 2, 3]\n",
        "for number in numbers:  # `numbers` is an iterable\n",
        "    print(number)\n"
      ],
      "metadata": {
        "id": "DzGnyryjPIK9"
      },
      "execution_count": null,
      "outputs": []
    },
    {
      "cell_type": "code",
      "source": [
        "def count_up_to(max):\n",
        "    count = 1\n",
        "    while count <= max:\n",
        "        yield count\n",
        "        count += 1\n",
        "\n",
        "generator = count_up_to(3)\n",
        "print(next(generator))  # Output: 1\n",
        "print(next(generator))  # Output: 2\n"
      ],
      "metadata": {
        "id": "vWgKvQI3PLuc"
      },
      "execution_count": null,
      "outputs": []
    },
    {
      "cell_type": "code",
      "source": [
        "#• What is the difference between xrange and range in Python?\n"
      ],
      "metadata": {
        "id": "aS7RdEBfQsbm"
      },
      "execution_count": null,
      "outputs": []
    },
    {
      "cell_type": "markdown",
      "source": [
        "In Python 2, xrange and range are used to generate sequences of numbers, but they function differently.\n",
        "\n",
        "range (Python 2 and 3)\n",
        "Type: Returns a list (Python 2) or a range object (Python 3).\n",
        "Memory Usage: Stores all numbers in memory (Python 2).\n",
        "xrange (Python 2 only)\n",
        "Type: Returns an xrange object, which generates numbers on demand (lazy evaluation).\n",
        "Memory Usage: More memory efficient for large ranges.\n",
        "\n",
        "In Python 3\n",
        "xrange is removed.\n",
        "range behaves like xrange, returning an immutable sequence object that generates numbers on demand.\n",
        "\n",
        "In summary, range in Python 3 combines the functionalities of both range and xrange from Python 2, being both memory efficient and versatile."
      ],
      "metadata": {
        "id": "Awj_WnSSPfLT"
      }
    },
    {
      "cell_type": "code",
      "source": [
        "# range example (Python 2)\n",
        "r = range(1, 5)\n",
        "print(r)  # Output: [1, 2, 3, 4]\n",
        "\n",
        "# xrange example (Python 2)\n",
        "xr = xrange(1, 5)\n",
        "print(list(xr))  # Output: [1, 2, 3, 4]\n",
        "\n",
        "# range example (Python 3)\n",
        "r = range(1, 5)\n",
        "print(list(r))  # Output: [1, 2, 3, 4]\n"
      ],
      "metadata": {
        "id": "ECrz-CoaPtzi"
      },
      "execution_count": null,
      "outputs": []
    },
    {
      "cell_type": "code",
      "source": [
        "# Pillars of Oops.\n"
      ],
      "metadata": {
        "id": "NLVW8zQxQwR4"
      },
      "execution_count": null,
      "outputs": []
    },
    {
      "cell_type": "markdown",
      "source": [
        "Encapsulation\n",
        "\n",
        "Definition: Bundling of data (attributes) and methods (functions) that operate on the data into a single unit (class), and restricting access to some of the object's components.\n",
        "\n",
        "Inheritance\n",
        "\n",
        "Definition: Mechanism where a new class inherits attributes and methods from an existing class.\n",
        "\n",
        "Polymorphism\n",
        "\n",
        "Definition: Ability to present the same interface for different data types or classes.\n",
        "\n",
        "Abstraction\n",
        "\n",
        "Definition: Hiding complex implementation details and showing only the necessary features of an object.\n",
        "\n",
        "In summary, the four pillars of OOP—encapsulation, inheritance, polymorphism, and abstraction—provide a framework for building modular, reusable, and maintainable code."
      ],
      "metadata": {
        "id": "LlCpVCH-QJ22"
      }
    },
    {
      "cell_type": "code",
      "source": [
        "#Encapsulation\n",
        "class Person:\n",
        "    def __init__(self, name, age):\n",
        "        self.name = name\n",
        "        self.__age = age  # Private attribute\n",
        "\n",
        "    def get_age(self):\n",
        "        return self.__age\n",
        "\n",
        "p = Person(\"Alice\", 30)\n",
        "print(p.name)       # Output: Alice\n",
        "print(p.get_age())  # Output: 30\n",
        "\n",
        "#Inheritance\n",
        "class Animal:\n",
        "    def speak(self):\n",
        "        return \"Some sound\"\n",
        "\n",
        "class Dog(Animal):\n",
        "    def speak(self):\n",
        "        return \"Bark\"\n",
        "\n",
        "d = Dog()\n",
        "print(d.speak())  # Output: Bark\n",
        "\n",
        "#polymorphism\n",
        "class Cat:\n",
        "    def speak(self):\n",
        "        return \"Meow\"\n",
        "\n",
        "class Dog:\n",
        "    def speak(self):\n",
        "        return \"Bark\"\n",
        "\n",
        "animals = [Cat(), Dog()]\n",
        "for animal in animals:\n",
        "    print(animal.speak())  # Output: Meow Bark\n",
        "\n",
        "#abstraction\n",
        "from abc import ABC, abstractmethod\n",
        "\n",
        "class Shape(ABC):\n",
        "    @abstractmethod\n",
        "    def area(self):\n",
        "        pass\n",
        "\n",
        "class Rectangle(Shape):\n",
        "    def __init__(self, width, height):\n",
        "        self.width = width\n",
        "        self.height = height\n",
        "\n",
        "    def area(self):\n",
        "        return self.width * self.height\n",
        "\n",
        "r = Rectangle(4, 5)\n",
        "print(r.area())  # Output: 20\n"
      ],
      "metadata": {
        "id": "PDL_EryyRvl2"
      },
      "execution_count": null,
      "outputs": []
    },
    {
      "cell_type": "code",
      "source": [
        "#• How will you check if a class is a child of another class?\n"
      ],
      "metadata": {
        "id": "P9QzzozcQzzd"
      },
      "execution_count": null,
      "outputs": []
    },
    {
      "cell_type": "markdown",
      "source": [
        "To check if a class is a child (subclass) of another class in Python, you can use the issubclass() function.\n",
        "\n",
        "In this example, issubclass(Child, Parent) returns True because Child is a subclass of Parent."
      ],
      "metadata": {
        "id": "Ipzb3Xy5Sb2d"
      }
    },
    {
      "cell_type": "code",
      "source": [
        "class Parent:\n",
        "    pass\n",
        "\n",
        "class Child(Parent):\n",
        "    pass\n",
        "\n",
        "print(issubclass(Child, Parent))  # Output: True\n",
        "print(issubclass(Parent, Child))  # Output: False\n"
      ],
      "metadata": {
        "id": "9V7Zp4s4Siqf"
      },
      "execution_count": null,
      "outputs": []
    },
    {
      "cell_type": "code",
      "source": [
        "#• How does inheritance work in python? Explain all types of inheritance with an example.\n"
      ],
      "metadata": {
        "id": "i3-OI9utQ2sw"
      },
      "execution_count": null,
      "outputs": []
    },
    {
      "cell_type": "code",
      "source": [
        "#Inheritance in Python allows a class to inherit attributes and methods from another class, promoting code reuse and hierarchical class organization. The class being inherited from is called the parent or superclass, and the class that inherits is called the child or subclass.\n",
        "\n",
        "#Types of Inheritance\n",
        "#Single Inheritance\n",
        "\n",
        "#A subclass inherits from one superclass.Example:\n",
        "\n",
        "class Animal:\n",
        "    def speak(self):\n",
        "        return \"Some sound\"\n",
        "\n",
        "class Dog(Animal):\n",
        "    def speak(self):\n",
        "        return \"Bark\"\n",
        "\n",
        "d = Dog()\n",
        "print(d.speak())  # Output: Bark\n",
        "\n",
        "#Multiple Inheritance\n",
        "\n",
        "#A subclass inherits from more than one superclass.Example:\n",
        "\n",
        "class Walker:\n",
        "    def walk(self):\n",
        "        return \"Walking\"\n",
        "\n",
        "class Swimmer:\n",
        "    def swim(self):\n",
        "        return \"Swimming\"\n",
        "\n",
        "class Amphibian(Walker, Swimmer):\n",
        "    pass\n",
        "\n",
        "a = Amphibian()\n",
        "print(a.walk())  # Output: Walking\n",
        "print(a.swim())  # Output: Swimming\n",
        "\n",
        "#Multilevel Inheritance\n",
        "\n",
        "#A subclass inherits from a class which itself is a subclass of another class.Example:\n",
        "\n",
        "class Animal:\n",
        "    def speak(self):\n",
        "        return \"Some sound\"\n",
        "\n",
        "class Mammal(Animal):\n",
        "    def has_fur(self):\n",
        "        return True\n",
        "\n",
        "class Dog(Mammal):\n",
        "    def speak(self):\n",
        "        return \"Bark\"\n",
        "\n",
        "d = Dog()\n",
        "print(d.speak())  # Output: Bark\n",
        "print(d.has_fur())  # Output: True\n",
        "\n",
        "#Hierarchical Inheritance\n",
        "\n",
        "#Multiple subclasses inherit from a single superclass.Example:\n",
        "\n",
        "class Animal:\n",
        "    def speak(self):\n",
        "        return \"Some sound\"\n",
        "\n",
        "class Dog(Animal):\n",
        "    def speak(self):\n",
        "        return \"Bark\"\n",
        "\n",
        "class Cat(Animal):\n",
        "    def speak(self):\n",
        "        return \"Meow\"\n",
        "\n",
        "d = Dog()\n",
        "c = Cat()\n",
        "print(d.speak())  # Output: Bark\n",
        "print(c.speak())  # Output: Meow\n",
        "Hybrid Inheritance\n",
        "\n",
        "#A combination of two or more types of inheritance.Example:\n",
        "\n",
        "class Animal:\n",
        "    def speak(self):\n",
        "        return \"Some sound\"\n",
        "\n",
        "class Mammal(Animal):\n",
        "    def has_fur(self):\n",
        "        return True\n",
        "\n",
        "class Bird(Animal):\n",
        "    def has_feathers(self):\n",
        "        return True\n",
        "\n",
        "class Bat(Mammal, Bird):\n",
        "    def can_fly(self):\n",
        "        return True\n",
        "\n",
        "b = Bat()\n",
        "print(b.speak())      # Output: Some sound\n",
        "print(b.has_fur())    # Output: True\n",
        "print(b.has_feathers())  # Output: True\n",
        "print(b.can_fly())    # Output: True\n",
        "\n",
        "#In summary, inheritance in Python provides a way to create hierarchical class structures, promoting code reuse and organization.\n"
      ],
      "metadata": {
        "id": "V1dWDOhqS-6U"
      },
      "execution_count": null,
      "outputs": []
    },
    {
      "cell_type": "code",
      "source": [
        "#• What is encapsulation? Explain it with an example.\n"
      ],
      "metadata": {
        "id": "XeyyLbY7Q5yW"
      },
      "execution_count": null,
      "outputs": []
    },
    {
      "cell_type": "markdown",
      "source": [
        "Encapsulation in Python is the concept of bundling data (attributes) and methods (functions that operate on the data) together within a class, and controlling access to that data through methods. It helps in hiding the internal state of an object and preventing external code from directly accessing it, ensuring data integrity and security.\n",
        "\n",
        "In this example:\n",
        "\n",
        "make, model, and year are public attributes of the Car class.\n",
        "__mileage is a private attribute (note the double underscores __), which can only be accessed or modified within the class itself.\n",
        "The drive() method updates the mileage, encapsulating the logic of how mileage is managed.\n",
        "The get_mileage() method provides controlled access to the private __mileage attribute, encapsulating its retrieval.\n",
        "Encapsulation helps in maintaining clean and manageable code by hiding internal implementation details and exposing only necessary interfaces to interact with objects."
      ],
      "metadata": {
        "id": "8jUXvNZ1Tvxo"
      }
    },
    {
      "cell_type": "code",
      "source": [
        "class Car:\n",
        "    def __init__(self, make, model, year):\n",
        "        self.make = make       # Public attribute\n",
        "        self.model = model     # Public attribute\n",
        "        self.year = year       # Public attribute\n",
        "        self.__mileage = 0    # Private attribute\n",
        "\n",
        "    def drive(self, miles):\n",
        "        \"\"\"Simulate driving and update mileage.\"\"\"\n",
        "        self.__mileage += miles\n",
        "\n",
        "    def get_mileage(self):\n",
        "        \"\"\"Return the current mileage.\"\"\"\n",
        "        return self.__mileage\n",
        "\n",
        "# Creating an instance of Car\n",
        "my_car = Car(\"Toyota\", \"Camry\", 2020)\n",
        "\n",
        "# Accessing public attributes directly\n",
        "print(my_car.make)   # Output: Toyota\n",
        "print(my_car.model)  # Output: Camry\n",
        "print(my_car.year)   # Output: 2020\n",
        "\n",
        "# Trying to access private attribute directly (will result in AttributeError)\n",
        "# print(my_car.__mileage)\n",
        "\n",
        "# Driving the car\n",
        "my_car.drive(100)\n",
        "my_car.drive(50)\n",
        "\n",
        "# Accessing private attribute through a method\n",
        "print(my_car.get_mileage())  # Output: 150\n"
      ],
      "metadata": {
        "id": "Vs75kHOVTxml"
      },
      "execution_count": null,
      "outputs": []
    },
    {
      "cell_type": "code",
      "source": [
        "#• What is polymorphism? Explain it with an example."
      ],
      "metadata": {
        "id": "q4GOhbS3Q80f"
      },
      "execution_count": null,
      "outputs": []
    },
    {
      "cell_type": "markdown",
      "source": [
        "Polymorphism in Python refers to the ability of different objects to respond to the same method or function in different ways. It allows objects of different classes to be treated as objects of a common superclass, providing flexibility and extensibility in code.\n",
        "\n",
        "In this example:\n",
        "\n",
        "The Animal class defines a method speak() which is overridden in its subclasses Dog, Cat, and Cow.\n",
        "The make_sound() function takes an object of type Animal (or any subclass of Animal) as an argument and calls its speak() method.\n",
        "Despite each subclass implementing speak() differently (Woof!, Meow!, Moo!), the make_sound() function can treat all these objects uniformly and call their speak() method, demonstrating polymorphic behavior.\n",
        "Polymorphism allows for more flexible and modular code by enabling objects of different types to be used interchangeably in contexts where their superclass is expected, enhancing code reusability and readability."
      ],
      "metadata": {
        "id": "eHPS738sUAfj"
      }
    },
    {
      "cell_type": "code",
      "source": [
        "class Animal:\n",
        "    def speak(self):\n",
        "        pass\n",
        "\n",
        "class Dog(Animal):\n",
        "    def speak(self):\n",
        "        return \"Woof!\"\n",
        "\n",
        "class Cat(Animal):\n",
        "    def speak(self):\n",
        "        return \"Meow!\"\n",
        "\n",
        "class Cow(Animal):\n",
        "    def speak(self):\n",
        "        return \"Moo!\"\n",
        "\n",
        "# Function demonstrating polymorphism\n",
        "def make_sound(animal):\n",
        "    return animal.speak()\n",
        "\n",
        "# Creating instances of different classes\n",
        "dog = Dog()\n",
        "cat = Cat()\n",
        "cow = Cow()\n",
        "\n",
        "# Calling the function with different objects\n",
        "print(make_sound(dog))  # Output: Woof!\n",
        "print(make_sound(cat))  # Output: Meow!\n",
        "print(make_sound(cow))  # Output: Moo!\n"
      ],
      "metadata": {
        "id": "HzOoftLNULlA"
      },
      "execution_count": null,
      "outputs": []
    },
    {
      "cell_type": "code",
      "source": [
        "#1. 2. Which of the following identifier names are invalid and why?\n",
        "#a) Serial_no. b) 1st Room c) Hundred$ d) Total Marks e) total-Marks f) Total Marks g) True h) _Percentag\n"
      ],
      "metadata": {
        "id": "6f2wrhM9ui0W"
      },
      "execution_count": null,
      "outputs": []
    },
    {
      "cell_type": "markdown",
      "source": [
        "The invalid identifiers are:\n",
        "\n",
        "1st Room (contains a space and starts with a digit)\n",
        "\n",
        "Total Marks (contains a space)\n",
        "\n",
        "total-Marks (contains a hyphen)\n",
        "\n",
        "True (reserved keyword)\n",
        "\n",
        "Total Marks (contains a space)"
      ],
      "metadata": {
        "id": "FMSVn4zw5lBV"
      }
    },
    {
      "cell_type": "code",
      "source": [
        "# 1.3.\n",
        "#name = [\"Mohan\", \"dash\", \"karam\", \"chandra\",\"gandhi\",\"Bapu\"]\n",
        "#do the following operations in this list;\n",
        "#a) add an element \"freedom_fighter\" in this list at the Oth index.\n",
        "#b) find the output of the following, and explain how?\n",
        "#name = [\"freedomFighter\", \"Bapuji\", \"Mohan\" \"dash\", \"karam\", \"chandra\", \"gandhi\"]\n",
        "#Length1=len((name [-len (name) +1:-1:2])) Length2=len((name [-Len (name)+1:-1])) print(length1+Length2)\n"
      ],
      "metadata": {
        "id": "S_Qjydqd6Kfr"
      },
      "execution_count": null,
      "outputs": []
    },
    {
      "cell_type": "code",
      "source": [
        "name = [\"Mohan\", \"dash\", \"karam\", \"chandra\", \"gandhi\", \"Bapu\"]\n",
        "name.insert(0, \"freedom_fighter\")\n",
        "print(name)\n"
      ],
      "metadata": {
        "colab": {
          "base_uri": "https://localhost:8080/"
        },
        "id": "4YRx6-qO8MUk",
        "outputId": "7828f16b-a3fd-41f5-8b58-58dacf29f2a1"
      },
      "execution_count": null,
      "outputs": [
        {
          "output_type": "stream",
          "name": "stdout",
          "text": [
            "['freedom_fighter', 'Mohan', 'dash', 'karam', 'chandra', 'gandhi', 'Bapu']\n"
          ]
        }
      ]
    },
    {
      "cell_type": "code",
      "source": [
        "name = [\"freedomFighter\", \"Bapuji\", \"Mohan\" \"dash\", \"karam\", \"chandra\", \"gandhi\"]\n",
        "Length1 = len(name[-len(name) + 1 : -1 : 2])\n",
        "Length2 = len(name[-len(name) + 1 : -1])\n",
        "print(Length1 + Length2)\n"
      ],
      "metadata": {
        "colab": {
          "base_uri": "https://localhost:8080/"
        },
        "id": "zap7-f5d8JDj",
        "outputId": "5675a4f3-7adf-4414-dee8-002dc06a1888"
      },
      "execution_count": null,
      "outputs": [
        {
          "output_type": "stream",
          "name": "stdout",
          "text": [
            "6\n"
          ]
        }
      ]
    },
    {
      "cell_type": "code",
      "source": [
        "#c) add two more elements in the name [\"Netaji\",\"Bose\"] at the end of the list.\n",
        "#d) what will be the value of temp:\n",
        "#name = [\"Bapuji\", \"dash\", \"karam\", \"chandra\",\"gandi\", \"Mohan\"]\n",
        "#temp=name[-1]\n",
        "#name[-1]=name[0] name[0]=temp\n",
        "#print(name)"
      ],
      "metadata": {
        "id": "dbu6S0uP8rN9"
      },
      "execution_count": null,
      "outputs": []
    },
    {
      "cell_type": "code",
      "source": [
        "name = [\"freedom_fighter\", \"Mohan\", \"dash\", \"karam\", \"chandra\", \"gandhi\", \"Bapu\"]\n",
        "name.extend([\"Netaji\", \"Bose\"])\n",
        "print(name)\n"
      ],
      "metadata": {
        "colab": {
          "base_uri": "https://localhost:8080/"
        },
        "id": "NGh_9KhJ9ESZ",
        "outputId": "db96fa85-3daa-4e48-94b3-6ba184c65f6d"
      },
      "execution_count": null,
      "outputs": [
        {
          "output_type": "stream",
          "name": "stdout",
          "text": [
            "['freedom_fighter', 'Mohan', 'dash', 'karam', 'chandra', 'gandhi', 'Bapu', 'Netaji', 'Bose']\n"
          ]
        }
      ]
    },
    {
      "cell_type": "code",
      "source": [
        "name = [\"Bapuji\", \"dash\", \"karam\", \"chandra\", \"gandi\", \"Mohan\"]\n",
        "temp = name[-1]\n",
        "name[-1] = name[0]\n",
        "name[0] = temp\n",
        "print(name)\n"
      ],
      "metadata": {
        "colab": {
          "base_uri": "https://localhost:8080/"
        },
        "id": "LNYsS0Vq9Kay",
        "outputId": "3b346988-9daa-4d9b-e208-b6ea9234527c"
      },
      "execution_count": null,
      "outputs": [
        {
          "output_type": "stream",
          "name": "stdout",
          "text": [
            "['Mohan', 'dash', 'karam', 'chandra', 'gandi', 'Bapuji']\n"
          ]
        }
      ]
    },
    {
      "cell_type": "code",
      "source": [
        "#Question 1.4.Find the output of the following.\n",
        "#animal = ['Human','cat','mat,'cat','rat','Human', 'Lion']\n",
        "#print(animal.count('Human'))\n",
        "#print(animal.index('rat'))\n",
        "#print(len(animal))\n"
      ],
      "metadata": {
        "id": "4qz6I64F-wdX"
      },
      "execution_count": null,
      "outputs": []
    },
    {
      "cell_type": "code",
      "source": [
        "animal = ['Human', 'cat', 'mat', 'cat', 'rat', 'Human', 'Lion']\n",
        "print(animal.count('Human'))\n",
        "print(animal.index('rat'))\n",
        "print(len(animal))\n"
      ],
      "metadata": {
        "colab": {
          "base_uri": "https://localhost:8080/"
        },
        "id": "8pdrAUa3ABbZ",
        "outputId": "3cce4de5-fdfa-416a-afe2-df3cb32ce1c5"
      },
      "execution_count": null,
      "outputs": [
        {
          "output_type": "stream",
          "name": "stdout",
          "text": [
            "2\n",
            "4\n",
            "7\n"
          ]
        }
      ]
    },
    {
      "cell_type": "code",
      "source": [
        "#Question 1.5. tuple1=(10,20,\"Apple\",3.4,'a', [\"master\", \"ji\"],(\"sita\",\"geeta\",22),[{\"roll_no\":1}, {\"name\":\"Navneet\"}])\n",
        "#a) print(len(tuple1))\n",
        "#b) print(tuple1[-1][-1][\"name\"])\n",
        "#c) fetch the value of roll_no from this tuple.\n",
        "#d) print(tuple1[-3][1])\n",
        "#e)fetch the element \"22\" from this tuple.\n"
      ],
      "metadata": {
        "id": "bVq4JYDZAoG7"
      },
      "execution_count": null,
      "outputs": []
    },
    {
      "cell_type": "code",
      "source": [
        "tuple1 = (10, 20, \"Apple\", 3.4, 'a', [\"master\", \"ji\"], (\"sita\", \"geeta\", 22), [{\"roll_no\": 1}, {\"name\": \"Navneet\"}])\n",
        "print(len(tuple1))\n",
        "print(tuple1[-1][-1][\"name\"])\n",
        "print(tuple1[-1][0][\"roll_no\"])\n",
        "print(tuple1[-3][1])\n",
        "print(tuple1[-2][2])\n",
        "\n",
        "\n"
      ],
      "metadata": {
        "colab": {
          "base_uri": "https://localhost:8080/"
        },
        "id": "XqA32vFSAtQn",
        "outputId": "a5e4798a-cc26-440b-d9a3-8157bde55243"
      },
      "execution_count": null,
      "outputs": [
        {
          "output_type": "stream",
          "name": "stdout",
          "text": [
            "8\n",
            "Navneet\n",
            "1\n",
            "ji\n",
            "22\n"
          ]
        }
      ]
    },
    {
      "cell_type": "code",
      "source": [
        "#1.6. Write a program to display the appropriate message as per the color of signal(RED-Stop/Yellow-Stay/ Green-Go) at the road crossing."
      ],
      "metadata": {
        "id": "-CcJIKpjCPGh"
      },
      "execution_count": null,
      "outputs": []
    },
    {
      "cell_type": "code",
      "source": [
        "def traffic_signal(signal_color):\n",
        "    if signal_color.lower() == 'red':\n",
        "        return \"Stop\"\n",
        "    elif signal_color.lower() == 'yellow':\n",
        "        return \"Stay\"\n",
        "    elif signal_color.lower() == 'green':\n",
        "        return \"Go\"\n",
        "    else:\n",
        "        return \"Invalid color\"\n",
        "\n",
        "# Test the function\n",
        "signal_color = input(\"Enter the color of the signal (RED/Yellow/Green): \")\n",
        "message = traffic_signal(signal_color)\n",
        "print(message)\n"
      ],
      "metadata": {
        "colab": {
          "base_uri": "https://localhost:8080/"
        },
        "id": "b5Z9ZKIICezw",
        "outputId": "6c07f1e2-9574-4c0f-acb3-bfb89ecbdbe0"
      },
      "execution_count": null,
      "outputs": [
        {
          "output_type": "stream",
          "name": "stdout",
          "text": [
            "Enter the color of the signal (RED/Yellow/Green): yellow\n",
            "Stay\n"
          ]
        }
      ]
    },
    {
      "cell_type": "code",
      "source": [
        "#1.7. Write a program to create a simple calculator performing only four basic operations (+,-,/,*)."
      ],
      "metadata": {
        "id": "Yx0gM3FxLcEs"
      },
      "execution_count": null,
      "outputs": []
    },
    {
      "cell_type": "code",
      "source": [
        "def add(x, y):\n",
        "    return x + y\n",
        "\n",
        "def subtract(x, y):\n",
        "    return x - y\n",
        "\n",
        "def multiply(x, y):\n",
        "    return x * y\n",
        "\n",
        "def divide(x, y):\n",
        "    if y == 0:\n",
        "        return \"Error! Division by zero.\"\n",
        "    else:\n",
        "        return x / y\n",
        "\n",
        "def calculator():\n",
        "    print(\"Select operation:\")\n",
        "    print(\"1. Add\")\n",
        "    print(\"2. Subtract\")\n",
        "    print(\"3. Multiply\")\n",
        "    print(\"4. Divide\")\n",
        "\n",
        "    choice = input(\"Enter choice(1/2/3/4): \")\n",
        "\n",
        "    if choice in ['1', '2', '3', '4']:\n",
        "        num1 = float(input(\"Enter first number: \"))\n",
        "        num2 = float(input(\"Enter second number: \"))\n",
        "\n",
        "        if choice == '1':\n",
        "            print(f\"The result is: {add(num1, num2)}\")\n",
        "        elif choice == '2':\n",
        "            print(f\"The result is: {subtract(num1, num2)}\")\n",
        "        elif choice == '3':\n",
        "            print(f\"The result is: {multiply(num1, num2)}\")\n",
        "        elif choice == '4':\n",
        "            print(f\"The result is: {divide(num1, num2)}\")\n",
        "    else:\n",
        "        print(\"Invalid Input\")\n",
        "\n",
        "if __name__ == \"__main__\":\n",
        "    calculator()\n"
      ],
      "metadata": {
        "colab": {
          "base_uri": "https://localhost:8080/"
        },
        "id": "auIoU1IYNQEv",
        "outputId": "c39c726f-4ed3-445b-93ef-d0284a56e0c6"
      },
      "execution_count": null,
      "outputs": [
        {
          "output_type": "stream",
          "name": "stdout",
          "text": [
            "Select operation:\n",
            "1. Add\n",
            "2. Subtract\n",
            "3. Multiply\n",
            "4. Divide\n",
            "Enter choice(1/2/3/4): 2\n",
            "Enter first number: 45\n",
            "Enter second number: 5\n",
            "The result is: 40.0\n"
          ]
        }
      ]
    },
    {
      "cell_type": "code",
      "source": [
        "#1.8. Write a program to find the larger of the three pre-specified numbers using ternary operators."
      ],
      "metadata": {
        "id": "MKK-bJjCN6K7"
      },
      "execution_count": null,
      "outputs": []
    },
    {
      "cell_type": "code",
      "source": [
        "# Define three numbers\n",
        "num1 = 10\n",
        "num2 = 20\n",
        "num3 = 15\n",
        "\n",
        "# Find the largest number using ternary operators\n",
        "largest = (num1 if num1 > num2 else num2) if (num1 if num1 > num2 else num2) > num3 else num3\n",
        "\n",
        "print(f\"The largest number is: {largest}\")\n"
      ],
      "metadata": {
        "colab": {
          "base_uri": "https://localhost:8080/"
        },
        "id": "H1G-S59oMvJe",
        "outputId": "95e684b8-c132-44e1-e915-daf3f5508cbe"
      },
      "execution_count": null,
      "outputs": [
        {
          "output_type": "stream",
          "name": "stdout",
          "text": [
            "The largest number is: 20\n"
          ]
        }
      ]
    },
    {
      "cell_type": "code",
      "source": [
        "#1.9. Write a program to find the factors of a whole number using a while loop."
      ],
      "metadata": {
        "id": "sbd3NInRM6_q"
      },
      "execution_count": null,
      "outputs": []
    },
    {
      "cell_type": "code",
      "source": [
        "def find_factors(number):\n",
        "    i = 1\n",
        "    factors = []\n",
        "\n",
        "    while i <= number:\n",
        "        if number % i == 0:\n",
        "            factors.append(i)\n",
        "        i += 1\n",
        "\n",
        "    return factors\n",
        "\n",
        "# Input: a whole number\n",
        "num = int(input(\"Enter a whole number: \"))\n",
        "\n",
        "# Get the factors\n",
        "factors = find_factors(num)\n",
        "\n",
        "# Print the factors\n",
        "print(f\"The factors of {num} are: {factors}\")\n"
      ],
      "metadata": {
        "colab": {
          "base_uri": "https://localhost:8080/"
        },
        "id": "xAeqCt0MNWP-",
        "outputId": "94992138-9f86-4b21-ecab-0c0d34837035"
      },
      "execution_count": null,
      "outputs": [
        {
          "output_type": "stream",
          "name": "stdout",
          "text": [
            "Enter a whole number: 40\n",
            "The factors of 40 are: [1, 2, 4, 5, 8, 10, 20, 40]\n"
          ]
        }
      ]
    },
    {
      "cell_type": "code",
      "source": [
        "#1.10. Write a program to find the sum of all the positive numbers entered by the user.\n",
        "#As soon as the user enters a negative number, stop taking in any further input from the user and display the sum."
      ],
      "metadata": {
        "id": "LyyNtmVoNgGn"
      },
      "execution_count": null,
      "outputs": []
    },
    {
      "cell_type": "code",
      "source": [
        "def sum_positive_numbers():\n",
        "    total_sum = 0\n",
        "\n",
        "    while True:\n",
        "        num = float(input(\"Enter a number (negative number to stop): \"))\n",
        "        if num < 0:\n",
        "            break\n",
        "        total_sum += num\n",
        "\n",
        "    print(f\"The sum of all positive numbers entered is: {total_sum}\")\n",
        "\n",
        "# Run the function\n",
        "sum_positive_numbers()\n"
      ],
      "metadata": {
        "colab": {
          "base_uri": "https://localhost:8080/"
        },
        "id": "a639CLg-Nq1X",
        "outputId": "8b84def4-02a9-4491-a166-49a3d861aad4"
      },
      "execution_count": null,
      "outputs": [
        {
          "output_type": "stream",
          "name": "stdout",
          "text": [
            "Enter a number (negative number to stop): 2\n",
            "Enter a number (negative number to stop): 4\n",
            "Enter a number (negative number to stop): 5\n",
            "Enter a number (negative number to stop): 6\n",
            "Enter a number (negative number to stop): -9\n",
            "The sum of all positive numbers entered is: 17.0\n"
          ]
        }
      ]
    },
    {
      "cell_type": "code",
      "source": [
        "#1.11. Write a program to find prime numbers between 2 to 100 using nested for loops."
      ],
      "metadata": {
        "id": "QZuxTb4rOEYs"
      },
      "execution_count": null,
      "outputs": []
    },
    {
      "cell_type": "code",
      "source": [
        "def find_primes(start, end):\n",
        "    primes = []\n",
        "    for num in range(start, end + 1):\n",
        "        if num > 1:  # All prime numbers are greater than 1\n",
        "            is_prime = True\n",
        "            for i in range(2, int(num ** 0.5) + 1):\n",
        "                if num % i == 0:\n",
        "                    is_prime = False\n",
        "                    break\n",
        "            if is_prime:\n",
        "                primes.append(num)\n",
        "    return primes\n",
        "\n",
        "# Define the range\n",
        "start = 2\n",
        "end = 100\n",
        "\n",
        "# Get the prime numbers\n",
        "prime_numbers = find_primes(start, end)\n",
        "\n",
        "# Print the prime numbers\n",
        "print(f\"Prime numbers between {start} and {end} are: {prime_numbers}\")\n"
      ],
      "metadata": {
        "colab": {
          "base_uri": "https://localhost:8080/"
        },
        "id": "RLWTPXObONOw",
        "outputId": "bebf9123-aea2-4a3b-e357-fe89bd07f14e"
      },
      "execution_count": null,
      "outputs": [
        {
          "output_type": "stream",
          "name": "stdout",
          "text": [
            "Prime numbers between 2 and 100 are: [2, 3, 5, 7, 11, 13, 17, 19, 23, 29, 31, 37, 41, 43, 47, 53, 59, 61, 67, 71, 73, 79, 83, 89, 97]\n"
          ]
        }
      ]
    },
    {
      "cell_type": "code",
      "source": [
        "#1.12. Write the programs for the following:\n",
        "#Accept the marks of the student in five major subjects and display the same.\n",
        "#Calculate the sum of the marks of all subjects.Divide the total marks by number of subjects (i.e. 5), calculate percentage = total marks/5 and display the percentage.\n",
        "#Find the grade of the student as per the following criteria. Hint: Use Match & case for this.:\n",
        "#Criteria                                                                    Grade\n",
        "#percentage > 85                                                               A\n",
        "#percentage < 85 && percentage >= 75                                           B\n",
        "#percentage < 75 && percentage >= 50                                           C\n",
        "#percentage > 30 && percentage <= 50                                           D\n",
        "#percentage <30                                                                Reapper\n",
        "\n"
      ],
      "metadata": {
        "id": "S_uwkvt_O9_2"
      },
      "execution_count": null,
      "outputs": []
    },
    {
      "cell_type": "code",
      "source": [
        "def calculate_grade(percentage):\n",
        "    match percentage:\n",
        "        case p if p > 85:\n",
        "            return 'A'\n",
        "        case p if 75 <= p < 85:\n",
        "            return 'B'\n",
        "        case p if 50 <= p < 75:\n",
        "            return 'C'\n",
        "        case p if 30 < p <= 50:\n",
        "            return 'D'\n",
        "        case p if p <= 30:\n",
        "            return 'Reappear'\n",
        "\n",
        "def main():\n",
        "    # Accept marks for five major subjects\n",
        "    marks = []\n",
        "    for i in range(1, 6):\n",
        "        mark = float(input(f\"Enter the marks for subject {i}: \"))\n",
        "        marks.append(mark)\n",
        "\n",
        "    # Display the marks\n",
        "    print(\"\\nMarks entered:\")\n",
        "    for i, mark in enumerate(marks, start=1):\n",
        "        print(f\"Subject {i}: {mark}\")\n",
        "\n",
        "    # Calculate total marks and percentage\n",
        "    total_marks = sum(marks)\n",
        "    percentage = total_marks / 5\n",
        "\n",
        "    # Display total marks and percentage\n",
        "    print(f\"\\nTotal Marks: {total_marks}\")\n",
        "    print(f\"Percentage: {percentage:.2f}%\")\n",
        "\n",
        "    # Determine the grade\n",
        "    grade = calculate_grade(percentage)\n",
        "    print(f\"Grade: {grade}\")\n",
        "\n",
        "if __name__ == \"__main__\":\n",
        "    main()\n"
      ],
      "metadata": {
        "colab": {
          "base_uri": "https://localhost:8080/"
        },
        "id": "sMiOgsEuTdHY",
        "outputId": "12aa15a5-a30c-4808-e304-5c11850b5e5f"
      },
      "execution_count": null,
      "outputs": [
        {
          "output_type": "stream",
          "name": "stdout",
          "text": [
            "Enter the marks for subject 1: 45\n",
            "Enter the marks for subject 2: 67\n",
            "Enter the marks for subject 3: 87\n",
            "Enter the marks for subject 4: 80\n",
            "Enter the marks for subject 5: 98\n",
            "\n",
            "Marks entered:\n",
            "Subject 1: 45.0\n",
            "Subject 2: 67.0\n",
            "Subject 3: 87.0\n",
            "Subject 4: 80.0\n",
            "Subject 5: 98.0\n",
            "\n",
            "Total Marks: 377.0\n",
            "Percentage: 75.40%\n",
            "Grade: B\n"
          ]
        }
      ]
    },
    {
      "cell_type": "code",
      "source": [
        "#1.13. Write a program for VIBGYOR Spectrum based on their Wavelength using. Wavelength Range:\n",
        "#COLOR\t\t\t\t\tWAVELENGTH (nm)\n",
        "#Violet\t\t\t\t\t\t400.0-440.0\n",
        "#Indigo\t\t\t\t\t  440.0-460.0\n",
        "#Blue\t\t\t\t\t\t  460.0-500.0\n",
        "#Green\t\t\t\t\t\t500.0-570.0\n",
        "#Yellow\t\t\t\t\t  570.0-590.0\n",
        "#Orange \t\t\t\t\t590.0-620.0\n",
        "#Red\t\t\t\t\t\t  620.0-720.0\n"
      ],
      "metadata": {
        "id": "cdaKgvqcUbjG"
      },
      "execution_count": null,
      "outputs": []
    },
    {
      "cell_type": "code",
      "source": [
        "def determine_color(wavelength):\n",
        "    match wavelength:\n",
        "        case w if 400.0 <= w < 440.0:\n",
        "            return 'Violet'\n",
        "        case w if 440.0 <= w < 460.0:\n",
        "            return 'Indigo'\n",
        "        case w if 460.0 <= w < 500.0:\n",
        "            return 'Blue'\n",
        "        case w if 500.0 <= w < 570.0:\n",
        "            return 'Green'\n",
        "        case w if 570.0 <= w < 590.0:\n",
        "            return 'Yellow'\n",
        "        case w if 590.0 <= w < 620.0:\n",
        "            return 'Orange'\n",
        "        case w if 620.0 <= w <= 720.0:\n",
        "            return 'Red'\n",
        "        case _:\n",
        "            return 'Wavelength out of range'\n",
        "\n",
        "def main():\n",
        "    # Accept wavelength input from user\n",
        "    wavelength = float(input(\"Enter the wavelength (nm): \"))\n",
        "\n",
        "    # Determine the color\n",
        "    color = determine_color(wavelength)\n",
        "\n",
        "    # Display the color\n",
        "    print(f\"The color for wavelength {wavelength} nm is: {color}\")\n",
        "\n",
        "if __name__ == \"__main__\":\n",
        "    main()\n"
      ],
      "metadata": {
        "colab": {
          "base_uri": "https://localhost:8080/"
        },
        "id": "bzh_iZeyXzoF",
        "outputId": "f5e93a73-96a1-43a7-d220-1a1450010a04"
      },
      "execution_count": null,
      "outputs": [
        {
          "output_type": "stream",
          "name": "stdout",
          "text": [
            "Enter the wavelength (nm): 560\n",
            "The color for wavelength 560.0 nm is: Green\n"
          ]
        }
      ]
    },
    {
      "cell_type": "code",
      "source": [
        "#1.14.Consider the gravitational interactions between the Earth, Moon, and Sun in our solar system. Given:\n",
        "#mass_earth = 5.972e24 # Mass of Earth in kilograms\n",
        "#mass_moon = 7.34767309e22 # Mass of Moon in kilograms\n",
        "#mass_sun = 1.989e30 # Mass of Sun in kilograms\n",
        "#distance_earth_sun 1.496ell # Average distance between Earth and Sun in meters distance_moon_earth = 3.844e8 # Average distance between Moon and Earth in meters\n",
        "#Tasks:\n",
        "# Calculate the gravitational force between the Earth and the Sun.\n",
        "#Calculate the gravitational force between the Moon and the Earth.\n",
        "#Compare the calculated forces to determine which gravitational force is stronger.\n",
        "#Explain which celestial body (Earth or Moon) is more attracted to the other based on the comparison.\n"
      ],
      "metadata": {
        "id": "I-rWnKdcYAkF"
      },
      "execution_count": null,
      "outputs": []
    },
    {
      "cell_type": "code",
      "source": [
        "# Define the constants\n",
        "G = 6.67430e-11  # Gravitational constant in m^3 kg^-1 s^-2\n",
        "mass_earth = 5.972e24  # Mass of Earth in kg\n",
        "mass_moon = 7.34767309e22  # Mass of Moon in kg\n",
        "mass_sun = 1.989e30  # Mass of Sun in kg\n",
        "distance_earth_sun = 1.496e11  # Average distance between Earth and Sun in m\n",
        "distance_moon_earth = 3.844e8  # Average distance between Moon and Earth in m\n",
        "\n",
        "# Calculate gravitational force between Earth and Sun\n",
        "force_earth_sun = (G * mass_earth * mass_sun) / (distance_earth_sun ** 2)\n",
        "\n",
        "# Calculate gravitational force between Moon and Earth\n",
        "force_moon_earth = (G * mass_earth * mass_moon) / (distance_moon_earth ** 2)\n",
        "\n",
        "# Compare the forces\n",
        "stronger_force = \"Earth and Sun\" if force_earth_sun > force_moon_earth else \"Moon and Earth\"\n",
        "\n",
        "# Print the results\n",
        "print(f\"Gravitational force between Earth and Sun: {force_earth_sun:.2e} N\")\n",
        "print(f\"Gravitational force between Moon and Earth: {force_moon_earth:.2e} N\")\n",
        "print(f\"The stronger gravitational force is between: {stronger_force}\")\n",
        "\n",
        "# Determine which celestial body is more attracted to the other\n",
        "if force_earth_sun > force_moon_earth:\n",
        "    print(\"The Earth is more attracted to the Sun.\")\n",
        "else:\n",
        "    print(\"The Moon is more attracted to the Earth.\")\n"
      ],
      "metadata": {
        "colab": {
          "base_uri": "https://localhost:8080/"
        },
        "id": "vMWgsYumZgUP",
        "outputId": "f5a144f9-47c8-4032-d3fc-2307c8dada75"
      },
      "execution_count": null,
      "outputs": [
        {
          "output_type": "stream",
          "name": "stdout",
          "text": [
            "Gravitational force between Earth and Sun: 3.54e+22 N\n",
            "Gravitational force between Moon and Earth: 1.98e+20 N\n",
            "The stronger gravitational force is between: Earth and Sun\n",
            "The Earth is more attracted to the Sun.\n"
          ]
        }
      ]
    },
    {
      "cell_type": "code",
      "source": [
        "#2. Design and implement a Python program for managing student information using object-oriented principles. Create a class called \"Student with encapsulated attributes for name, age, and roll number. Implement getter and setter methods for these attributes. Additionally, provide methods to display student information and update student details.\n",
        "#Tasks:\n",
        "#Define the 'Student class with encapsulated attributes.\n",
        "#Implement getter and setter methods for the attributes.\n",
        "#Write methods to display student information and update details.\n",
        "#Create instances of the `Student class and test the implemented functionality.\n"
      ],
      "metadata": {
        "id": "PyUTKNiEXEiK"
      },
      "execution_count": null,
      "outputs": []
    },
    {
      "cell_type": "code",
      "source": [
        "class Student:\n",
        "    def __init__(self, name, age, roll_number):\n",
        "        self.__name = name\n",
        "        self.__age = age\n",
        "        self.__roll_number = roll_number\n",
        "\n",
        "    # Getter for name\n",
        "    def get_name(self):\n",
        "        return self.__name\n",
        "\n",
        "    # Setter for name\n",
        "    def set_name(self, name):\n",
        "        self.__name = name\n",
        "\n",
        "    # Getter for age\n",
        "    def get_age(self):\n",
        "        return self.__age\n",
        "\n",
        "    # Setter for age\n",
        "    def set_age(self, age):\n",
        "        self.__age = age\n",
        "\n",
        "    # Getter for roll number\n",
        "    def get_roll_number(self):\n",
        "        return self.__roll_number\n",
        "\n",
        "    # Setter for roll number\n",
        "    def set_roll_number(self, roll_number):\n",
        "        self.__roll_number = roll_number\n",
        "\n",
        "    # Method to display student information\n",
        "    def display_info(self):\n",
        "        print(f\"Name: {self.__name}\")\n",
        "        print(f\"Age: {self.__age}\")\n",
        "        print(f\"Roll Number: {self.__roll_number}\")\n",
        "\n",
        "    # Method to update student details\n",
        "    def update_details(self, name=None, age=None, roll_number=None):\n",
        "        if name is not None:\n",
        "            self.set_name(name)\n",
        "        if age is not None:\n",
        "            self.set_age(age)\n",
        "        if roll_number is not None:\n",
        "            self.set_roll_number(roll_number)\n",
        "\n",
        "# Create instances of the Student class and test the functionality\n",
        "student1 = Student(\"Alice\", 20, \"S12345\")\n",
        "student2 = Student(\"Bob\", 22, \"S67890\")\n",
        "\n",
        "# Display initial information\n",
        "print(\"Initial Information:\")\n",
        "student1.display_info()\n",
        "print()\n",
        "student2.display_info()\n",
        "\n",
        "# Update student1's details\n",
        "student1.update_details(name=\"Alicia\", age=21)\n",
        "print(\"\\nUpdated Information for Student 1:\")\n",
        "student1.display_info()\n",
        "\n",
        "# Update student2's details\n",
        "student2.update_details(roll_number=\"S98765\")\n",
        "print(\"\\nUpdated Information for Student 2:\")\n",
        "student2.display_info()\n"
      ],
      "metadata": {
        "colab": {
          "base_uri": "https://localhost:8080/"
        },
        "id": "iRgbsqBPYoAz",
        "outputId": "b8218c7e-424e-4a05-bfe9-86c77b2d2ff3"
      },
      "execution_count": null,
      "outputs": [
        {
          "output_type": "stream",
          "name": "stdout",
          "text": [
            "Initial Information:\n",
            "Name: Alice\n",
            "Age: 20\n",
            "Roll Number: S12345\n",
            "\n",
            "Name: Bob\n",
            "Age: 22\n",
            "Roll Number: S67890\n",
            "\n",
            "Updated Information for Student 1:\n",
            "Name: Alicia\n",
            "Age: 21\n",
            "Roll Number: S12345\n",
            "\n",
            "Updated Information for Student 2:\n",
            "Name: Bob\n",
            "Age: 22\n",
            "Roll Number: S98765\n"
          ]
        }
      ]
    },
    {
      "cell_type": "code",
      "source": [
        "#3.Develop a Python program for managing library resources efficiently. Design a class named `LibraryBook` with attributes like book name, author, and availability status. Implement methods for borrowing and returning books while ensuring proper encapsulation of attributes.\n",
        "#Tasks:\n",
        "#1. Create the \"LibraryBook\" class with encapsulated attributes.\n",
        "#2. Implement methods for borrowing and returning books.\n",
        "#3. Ensure proper encapsulation to protect book details.\n",
        "#4. Test the borrowing and returning functionality with sample data.\n"
      ],
      "metadata": {
        "id": "i45tyhMpY35s"
      },
      "execution_count": null,
      "outputs": []
    },
    {
      "cell_type": "code",
      "source": [
        "class LibraryBook:\n",
        "    def __init__(self, book_name, author):\n",
        "        self.__book_name = book_name\n",
        "        self.__author = author\n",
        "        self.__is_available = True\n",
        "\n",
        "    # Getter for book name\n",
        "    def get_book_name(self):\n",
        "        return self.__book_name\n",
        "\n",
        "    # Getter for author\n",
        "    def get_author(self):\n",
        "        return self.__author\n",
        "\n",
        "    # Getter for availability status\n",
        "    def is_available(self):\n",
        "        return self.__is_available\n",
        "\n",
        "    # Method to borrow the book\n",
        "    def borrow_book(self):\n",
        "        if self.__is_available:\n",
        "            self.__is_available = False\n",
        "            print(f\"You have successfully borrowed '{self.__book_name}'.\")\n",
        "        else:\n",
        "            print(f\"Sorry, '{self.__book_name}' is currently not available.\")\n",
        "\n",
        "    # Method to return the book\n",
        "    def return_book(self):\n",
        "        if not self.__is_available:\n",
        "            self.__is_available = True\n",
        "            print(f\"You have successfully returned '{self.__book_name}'.\")\n",
        "        else:\n",
        "            print(f\"'{self.__book_name}' is already available in the library.\")\n",
        "\n",
        "    # Method to display book details\n",
        "    def display_info(self):\n",
        "        availability = \"Available\" if self.__is_available else \"Not Available\"\n",
        "        print(f\"Book Name: {self.__book_name}\")\n",
        "        print(f\"Author: {self.__author}\")\n",
        "        print(f\"Availability: {availability}\")\n",
        "\n",
        "# Create instances of the LibraryBook class and test the functionality\n",
        "book1 = LibraryBook(\"1984\", \"George Orwell\")\n",
        "book2 = LibraryBook(\"To Kill a Mockingbird\", \"Harper Lee\")\n",
        "\n",
        "# Display initial information\n",
        "print(\"Initial Information:\")\n",
        "book1.display_info()\n",
        "print()\n",
        "book2.display_info()\n",
        "\n",
        "# Borrow book1\n",
        "print(\"\\nBorrowing '1984':\")\n",
        "book1.borrow_book()\n",
        "print(\"\\nTrying to borrow '1984' again:\")\n",
        "book1.borrow_book()\n",
        "\n",
        "# Return book1\n",
        "print(\"\\nReturning '1984':\")\n",
        "book1.return_book()\n",
        "print(\"\\nTrying to return '1984' again:\")\n",
        "book1.return_book()\n",
        "\n",
        "# Display updated information\n",
        "print(\"\\nUpdated Information:\")\n",
        "book1.display_info()\n",
        "print()\n",
        "book2.display_info()\n"
      ],
      "metadata": {
        "colab": {
          "base_uri": "https://localhost:8080/"
        },
        "id": "JMJuYiaxZSpg",
        "outputId": "fe467e1f-75fd-48df-a648-84858baa714d"
      },
      "execution_count": null,
      "outputs": [
        {
          "output_type": "stream",
          "name": "stdout",
          "text": [
            "Initial Information:\n",
            "Book Name: 1984\n",
            "Author: George Orwell\n",
            "Availability: Available\n",
            "\n",
            "Book Name: To Kill a Mockingbird\n",
            "Author: Harper Lee\n",
            "Availability: Available\n",
            "\n",
            "Borrowing '1984':\n",
            "You have successfully borrowed '1984'.\n",
            "\n",
            "Trying to borrow '1984' again:\n",
            "Sorry, '1984' is currently not available.\n",
            "\n",
            "Returning '1984':\n",
            "You have successfully returned '1984'.\n",
            "\n",
            "Trying to return '1984' again:\n",
            "'1984' is already available in the library.\n",
            "\n",
            "Updated Information:\n",
            "Book Name: 1984\n",
            "Author: George Orwell\n",
            "Availability: Available\n",
            "\n",
            "Book Name: To Kill a Mockingbird\n",
            "Author: Harper Lee\n",
            "Availability: Available\n"
          ]
        }
      ]
    },
    {
      "cell_type": "code",
      "source": [
        "#4.Create a simple banking system using object-oriented concepts in Python. Design classes representing different types of bank accounts such as savings and checking. Implement methods for deposit, withdraw, and balance inquiry. Utilize inheritance to manage different account types efficiently.\n",
        "#Tasks:\n",
        "#1. Define base class(es) for bank accounts with common attributes and methods.\n",
        "#2. Implement subclasses for specific account types (e.g., Savings Account, Checking Account).\n",
        "#3. Provide methods for deposit, withdraw, and balance inquiry in each subclass.\n",
        "#4. Test the banking system by creating instances of different account types and performing transactions.\n"
      ],
      "metadata": {
        "id": "ECOkLmXGZ4Ok"
      },
      "execution_count": null,
      "outputs": []
    },
    {
      "cell_type": "code",
      "source": [
        "class BankAccount:\n",
        "    def __init__(self, account_number, balance=0):\n",
        "        self.account_number = account_number\n",
        "        self.balance = balance\n",
        "\n",
        "    def deposit(self, amount):\n",
        "        if amount > 0:\n",
        "            self.balance += amount\n",
        "            print(f\"Deposited {amount}. New balance: {self.balance}\")\n",
        "        else:\n",
        "            print(\"Deposit amount must be positive.\")\n",
        "\n",
        "    def withdraw(self, amount):\n",
        "        if 0 < amount <= self.balance:\n",
        "            self.balance -= amount\n",
        "            print(f\"Withdrew {amount}. New balance: {self.balance}\")\n",
        "        else:\n",
        "            print(\"Insufficient funds or invalid withdrawal amount.\")\n",
        "\n",
        "    def get_balance(self):\n",
        "        print(f\"Account balance: {self.balance}\")\n",
        "        return self.balance\n",
        "\n",
        "\n",
        "class SavingsAccount(BankAccount):\n",
        "    def __init__(self, account_number, balance=0, interest_rate=0.02):\n",
        "        super().__init__(account_number, balance)\n",
        "        self.interest_rate = interest_rate\n",
        "\n",
        "    def add_interest(self):\n",
        "        interest = self.balance * self.interest_rate\n",
        "        self.deposit(interest)\n",
        "        print(f\"Interest added at rate {self.interest_rate}. New balance: {self.balance}\")\n",
        "\n",
        "\n",
        "class CheckingAccount(BankAccount):\n",
        "    def __init__(self, account_number, balance=0, overdraft_limit=500):\n",
        "        super().__init__(account_number, balance)\n",
        "        self.overdraft_limit = overdraft_limit\n",
        "\n",
        "    def withdraw(self, amount):\n",
        "        if 0 < amount <= self.balance + self.overdraft_limit:\n",
        "            self.balance -= amount\n",
        "            print(f\"Withdrew {amount}. New balance: {self.balance}\")\n",
        "        else:\n",
        "            print(\"Overdraft limit exceeded or invalid withdrawal amount.\")\n",
        "\n",
        "\n",
        "# Test the banking system\n",
        "savings = SavingsAccount(\"S12345\", 1000)\n",
        "checking = CheckingAccount(\"C67890\", 500)\n",
        "\n",
        "# Display initial balances\n",
        "print(\"Initial Balances:\")\n",
        "savings.get_balance()\n",
        "checking.get_balance()\n",
        "\n",
        "# Perform transactions on SavingsAccount\n",
        "print(\"\\nTransactions for Savings Account:\")\n",
        "savings.deposit(500)\n",
        "savings.withdraw(200)\n",
        "savings.add_interest()\n",
        "savings.get_balance()\n",
        "\n",
        "# Perform transactions on CheckingAccount\n",
        "print(\"\\nTransactions for Checking Account:\")\n",
        "checking.deposit(300)\n",
        "checking.withdraw(1000)\n",
        "checking.get_balance()\n"
      ],
      "metadata": {
        "colab": {
          "base_uri": "https://localhost:8080/"
        },
        "id": "gv7tbIiiaFsk",
        "outputId": "4b22779a-38ef-4aa4-f927-3957248f4515"
      },
      "execution_count": null,
      "outputs": [
        {
          "output_type": "stream",
          "name": "stdout",
          "text": [
            "Initial Balances:\n",
            "Account balance: 1000\n",
            "Account balance: 500\n",
            "\n",
            "Transactions for Savings Account:\n",
            "Deposited 500. New balance: 1500\n",
            "Withdrew 200. New balance: 1300\n",
            "Deposited 26.0. New balance: 1326.0\n",
            "Interest added at rate 0.02. New balance: 1326.0\n",
            "Account balance: 1326.0\n",
            "\n",
            "Transactions for Checking Account:\n",
            "Deposited 300. New balance: 800\n",
            "Withdrew 1000. New balance: -200\n",
            "Account balance: -200\n"
          ]
        },
        {
          "output_type": "execute_result",
          "data": {
            "text/plain": [
              "-200"
            ]
          },
          "metadata": {},
          "execution_count": 3
        }
      ]
    },
    {
      "cell_type": "code",
      "source": [
        "#5.Write a Python program that models different animals and their sounds. Design a base class called \"Animal\" with a method `make_sound()*. Create subclasses like \"Dog\" and \"Cat\" that override the `make_sound() method to produce appropriate sounds.\n",
        "#Tasks:\n",
        "#1. Define the \"Animal class with a method `make_sound().\n",
        "#2. Create subclasses \"Dog\" and \"Cat\" that override the \"make_sound() method.\n",
        "#3. Implement the sound generation logic for each subclass.\n",
        "#4. Test the program by creating instances of \"Dog\" and \"Cat\" and calling the `make_sound()` method.\n"
      ],
      "metadata": {
        "id": "DlSk1vRmadJ9"
      },
      "execution_count": null,
      "outputs": []
    },
    {
      "cell_type": "code",
      "source": [
        "class Animal:\n",
        "    def make_sound(self):\n",
        "        raise NotImplementedError(\"Subclass must implement abstract method\")\n",
        "\n",
        "class Dog(Animal):\n",
        "    def make_sound(self):\n",
        "        return \"Woof!\"\n",
        "\n",
        "class Cat(Animal):\n",
        "    def make_sound(self):\n",
        "        return \"Meow!\"\n",
        "\n",
        "# Test the program by creating instances of Dog and Cat and calling the make_sound() method\n",
        "def test_animal_sounds():\n",
        "    animals = [Dog(), Cat()]\n",
        "    for animal in animals:\n",
        "        print(f\"The {animal.__class__.__name__} says: {animal.make_sound()}\")\n",
        "\n",
        "test_animal_sounds()\n"
      ],
      "metadata": {
        "colab": {
          "base_uri": "https://localhost:8080/"
        },
        "id": "ewNw-GBjaqHV",
        "outputId": "e3bf2e7d-8055-4864-b025-2b81afdf63fb"
      },
      "execution_count": null,
      "outputs": [
        {
          "output_type": "stream",
          "name": "stdout",
          "text": [
            "The Dog says: Woof!\n",
            "The Cat says: Meow!\n"
          ]
        }
      ]
    },
    {
      "cell_type": "code",
      "source": [
        "#6.Write a code for Restaurant Management System Using OOPS:\n",
        "#Create a Menultem class that has attributes such as name, description, price, and category.\n",
        "#Implement methods to add a new menu item, update menu item information, and remove a menu item from the menu.\n",
        "#Use encapsulation to hide the menu item's unique identification number.\n",
        "#Inherit from the Menultem class to create a FoodItem class and a Beverageltem class, each with their own specific attributes and methods."
      ],
      "metadata": {
        "id": "4g0G1rC9SouV"
      },
      "execution_count": null,
      "outputs": []
    },
    {
      "cell_type": "code",
      "source": [
        "# Base class for Menu Items\n",
        "class MenuItem:\n",
        "    def __init__(self, name, description, price, category):\n",
        "        self.__id = id(self)  # Encapsulated unique ID\n",
        "        self.name = name\n",
        "        self.description = description\n",
        "        self.price = price\n",
        "        self.category = category\n",
        "\n",
        "    def update_item(self, name=None, description=None, price=None, category=None):\n",
        "        if name: self.name = name\n",
        "        if description: self.description = description\n",
        "        if price: self.price = price\n",
        "        if category: self.category = category\n",
        "\n",
        "    def __str__(self):\n",
        "        return f\"{self.name}: {self.description}, Price: {self.price}, Category: {self.category}\"\n",
        "\n",
        "# Derived class for Food Items\n",
        "class FoodItem(MenuItem):\n",
        "    def __init__(self, name, description, price, category, cuisine_type):\n",
        "        super().__init__(name, description, price, category)\n",
        "        self.cuisine_type = cuisine_type\n",
        "\n",
        "# Derived class for Beverage Items\n",
        "class BeverageItem(MenuItem):\n",
        "    def __init__(self, name, description, price, category, size):\n",
        "        super().__init__(name, description, price, category)\n",
        "        self.size = size\n",
        "\n",
        "# Menu Management\n",
        "class Menu:\n",
        "    def __init__(self):\n",
        "        self.items = []\n",
        "\n",
        "    def add_item(self, item):\n",
        "        self.items.append(item)\n",
        "\n",
        "    def remove_item(self, item):\n",
        "        self.items.remove(item)\n",
        "\n",
        "    def display_menu(self):\n",
        "        for item in self.items:\n",
        "            print(item)\n",
        "\n",
        "# Example Usage\n",
        "menu = Menu()\n",
        "burger = FoodItem(\"Burger\", \"Beef burger\", 5.99, \"Main Course\", \"American\")\n",
        "coffee = BeverageItem(\"Coffee\", \"Hot coffee\", 2.99, \"Beverage\", \"Medium\")\n",
        "\n",
        "menu.add_item(burger)\n",
        "menu.add_item(coffee)\n",
        "menu.display_menu()\n",
        "\n",
        "# Update and Remove Example\n",
        "burger.update_item(price=6.99)\n",
        "menu.remove_item(coffee)\n",
        "menu.display_menu()\n"
      ],
      "metadata": {
        "colab": {
          "base_uri": "https://localhost:8080/"
        },
        "id": "nnoM9LT5S4iC",
        "outputId": "22e2bf31-12f2-4d7d-c092-69dff6911b59"
      },
      "execution_count": null,
      "outputs": [
        {
          "output_type": "stream",
          "name": "stdout",
          "text": [
            "Burger: Beef burger, Price: 5.99, Category: Main Course\n",
            "Coffee: Hot coffee, Price: 2.99, Category: Beverage\n",
            "Burger: Beef burger, Price: 6.99, Category: Main Course\n"
          ]
        }
      ]
    },
    {
      "cell_type": "code",
      "source": [
        "#7.Write a code for Hotel Management System using OOPS:\n",
        "#Create a Room class that has attributes such as room number, room type, rate, and availability (private). Implement methods to book a room, check in a guest, and check out a guest.\n",
        "#Use encapsulation to hide the room's unique identification number.\n",
        "#Inherit from the Room class to create a SuiteRoom class and a Standard Room class, each with their own specific attributes and methods."
      ],
      "metadata": {
        "id": "YYzWWsAwUCzm"
      },
      "execution_count": null,
      "outputs": []
    },
    {
      "cell_type": "code",
      "source": [
        "# Base class for Rooms\n",
        "class Room:\n",
        "    def __init__(self, room_number, room_type, rate):\n",
        "        self.__id = id(self)  # Encapsulated unique ID\n",
        "        self.room_number = room_number\n",
        "        self.room_type = room_type\n",
        "        self.rate = rate\n",
        "        self.__availability = True  # Private attribute\n",
        "\n",
        "    def book_room(self):\n",
        "        if self.__availability:\n",
        "            self.__availability = False\n",
        "            return True\n",
        "        return False\n",
        "\n",
        "    def check_in(self):\n",
        "        if not self.__availability:\n",
        "            print(f\"Room {self.room_number} is already booked.\")\n",
        "        else:\n",
        "            self.book_room()\n",
        "            print(f\"Guest checked into Room {self.room_number}.\")\n",
        "\n",
        "    def check_out(self):\n",
        "        if self.__availability:\n",
        "            print(f\"Room {self.room_number} is already vacant.\")\n",
        "        else:\n",
        "            self.__availability = True\n",
        "            print(f\"Guest checked out from Room {self.room_number}.\")\n",
        "\n",
        "    def __str__(self):\n",
        "        status = \"Available\" if self.__availability else \"Booked\"\n",
        "        return f\"Room {self.room_number}, Type: {self.room_type}, Rate: {self.rate}, Status: {status}\"\n",
        "\n",
        "# Derived class for Suite Rooms\n",
        "class SuiteRoom(Room):\n",
        "    def __init__(self, room_number, rate, amenities):\n",
        "        super().__init__(room_number, \"Suite\", rate)\n",
        "        self.amenities = amenities\n",
        "\n",
        "# Derived class for Standard Rooms\n",
        "class StandardRoom(Room):\n",
        "    def __init__(self, room_number, rate):\n",
        "        super().__init__(room_number, \"Standard\", rate)\n",
        "\n",
        "# Hotel Management\n",
        "class Hotel:\n",
        "    def __init__(self):\n",
        "        self.rooms = []\n",
        "\n",
        "    def add_room(self, room):\n",
        "        self.rooms.append(room)\n",
        "\n",
        "    def find_room(self, room_number):\n",
        "        for room in self.rooms:\n",
        "            if room.room_number == room_number:\n",
        "                return room\n",
        "        return None\n",
        "\n",
        "    def display_rooms(self):\n",
        "        for room in self.rooms:\n",
        "            print(room)\n",
        "\n",
        "# Example Usage\n",
        "hotel = Hotel()\n",
        "suite = SuiteRoom(101, 250.00, [\"Jacuzzi\", \"Mini Bar\"])\n",
        "standard = StandardRoom(102, 100.00)\n",
        "\n",
        "hotel.add_room(suite)\n",
        "hotel.add_room(standard)\n",
        "hotel.display_rooms()\n",
        "\n",
        "# Check-in and Check-out Example\n",
        "room = hotel.find_room(101)\n",
        "room.check_in()\n",
        "room.check_out()\n"
      ],
      "metadata": {
        "colab": {
          "base_uri": "https://localhost:8080/"
        },
        "id": "KKec5kWaUkTx",
        "outputId": "723adf8f-7fcf-4678-c708-4f06a55deb57"
      },
      "execution_count": null,
      "outputs": [
        {
          "output_type": "stream",
          "name": "stdout",
          "text": [
            "Room 101, Type: Suite, Rate: 250.0, Status: Available\n",
            "Room 102, Type: Standard, Rate: 100.0, Status: Available\n",
            "Guest checked into Room 101.\n",
            "Guest checked out from Room 101.\n"
          ]
        }
      ]
    },
    {
      "cell_type": "code",
      "source": [
        "#8.Write a code for Fitness Club Management System using OOPS:\n",
        "#Create a Member class that has attributes such as name, age, membership type, and membership status (private).\n",
        "#Implement methods to register a new member, renew a membership, and cancel a membership.\n",
        "#Use encapsulation to hide the member's unique identification number.\n",
        "#Inherit from the Member class to create a Family Member class and an IndividualMember class, each with their own specific attributes and methods."
      ],
      "metadata": {
        "id": "Q4OOx7wyVLBC"
      },
      "execution_count": null,
      "outputs": []
    },
    {
      "cell_type": "code",
      "source": [
        "# Base class for Club Members\n",
        "class Member:\n",
        "    def __init__(self, name, age, membership_type):\n",
        "        self.__id = id(self)  # Encapsulated unique ID\n",
        "        self.name = name\n",
        "        self.age = age\n",
        "        self.membership_type = membership_type\n",
        "        self.__membership_status = \"Active\"  # Private attribute\n",
        "\n",
        "    def renew_membership(self):\n",
        "        if self.__membership_status == \"Active\":\n",
        "            print(f\"Membership for {self.name} is already active.\")\n",
        "        else:\n",
        "            self.__membership_status = \"Active\"\n",
        "            print(f\"Membership for {self.name} has been renewed.\")\n",
        "\n",
        "    def cancel_membership(self):\n",
        "        if self.__membership_status == \"Cancelled\":\n",
        "            print(f\"Membership for {self.name} is already cancelled.\")\n",
        "        else:\n",
        "            self.__membership_status = \"Cancelled\"\n",
        "            print(f\"Membership for {self.name} has been cancelled.\")\n",
        "\n",
        "    def __str__(self):\n",
        "        return f\"Name: {self.name}, Age: {self.age}, Membership Type: {self.membership_type}, Status: {self.__membership_status}\"\n",
        "\n",
        "# Derived class for Family Members\n",
        "class FamilyMember(Member):\n",
        "    def __init__(self, name, age, membership_type, family_members):\n",
        "        super().__init__(name, age, membership_type)\n",
        "        self.family_members = family_members\n",
        "\n",
        "    def add_family_member(self, member_name):\n",
        "        self.family_members.append(member_name)\n",
        "\n",
        "# Derived class for Individual Members\n",
        "class IndividualMember(Member):\n",
        "    def __init__(self, name, age, membership_type, personal_trainer):\n",
        "        super().__init__(name, age, membership_type)\n",
        "        self.personal_trainer = personal_trainer\n",
        "\n",
        "# Fitness Club Management\n",
        "class FitnessClub:\n",
        "    def __init__(self):\n",
        "        self.members = []\n",
        "\n",
        "    def register_member(self, member):\n",
        "        self.members.append(member)\n",
        "        print(f\"{member.name} has been registered.\")\n",
        "\n",
        "    def display_members(self):\n",
        "        for member in self.members:\n",
        "            print(member)\n",
        "\n",
        "# Example Usage\n",
        "club = FitnessClub()\n",
        "john = IndividualMember(\"John Doe\", 30, \"Individual\", \"Trainer Mike\")\n",
        "smith_family = FamilyMember(\"Smith Family\", 40, \"Family\", [\"Jane\", \"Bob\"])\n",
        "\n",
        "club.register_member(john)\n",
        "club.register_member(smith_family)\n",
        "club.display_members()\n",
        "\n",
        "# Renew and Cancel Example\n",
        "john.cancel_membership()\n",
        "smith_family.renew_membership()\n",
        "club.display_members()\n"
      ],
      "metadata": {
        "colab": {
          "base_uri": "https://localhost:8080/"
        },
        "id": "d9lwFu6ZYGPS",
        "outputId": "4d8326e5-69cd-46b0-d948-29ce20b1b462"
      },
      "execution_count": null,
      "outputs": [
        {
          "output_type": "stream",
          "name": "stdout",
          "text": [
            "John Doe has been registered.\n",
            "Smith Family has been registered.\n",
            "Name: John Doe, Age: 30, Membership Type: Individual, Status: Active\n",
            "Name: Smith Family, Age: 40, Membership Type: Family, Status: Active\n",
            "Membership for John Doe has been cancelled.\n",
            "Membership for Smith Family is already active.\n",
            "Name: John Doe, Age: 30, Membership Type: Individual, Status: Cancelled\n",
            "Name: Smith Family, Age: 40, Membership Type: Family, Status: Active\n"
          ]
        }
      ]
    },
    {
      "cell_type": "code",
      "source": [
        "#9. Write a code for Event Management System using OOPS:\n",
        "#Create an Event class that has attributes such as name, date, time, location, and list of attendees (private). Implement methods to create a new event, add or remove attendees, and get the total number of attendees.\n",
        "#Use encapsulation to hide the event's unique identification number.\n",
        "#Inherit from the Event class to create a PrivateEvent class and a PublicEvent class, each with their own specific attributes and methods."
      ],
      "metadata": {
        "id": "D1hxUJs6YPpt"
      },
      "execution_count": null,
      "outputs": []
    },
    {
      "cell_type": "code",
      "source": [
        "# Base class for Events\n",
        "class Event:\n",
        "    def __init__(self, name, date, time, location):\n",
        "        self.__id = id(self)  # Encapsulated unique ID\n",
        "        self.name = name\n",
        "        self.date = date\n",
        "        self.time = time\n",
        "        self.location = location\n",
        "        self.__attendees = []  # Private list of attendees\n",
        "\n",
        "    def add_attendee(self, attendee_name):\n",
        "        self.__attendees.append(attendee_name)\n",
        "\n",
        "    def remove_attendee(self, attendee_name):\n",
        "        if attendee_name in self.__attendees:\n",
        "            self.__attendees.remove(attendee_name)\n",
        "        else:\n",
        "            print(f\"{attendee_name} is not in the attendee list.\")\n",
        "\n",
        "    def get_total_attendees(self):\n",
        "        return len(self.__attendees)\n",
        "\n",
        "    def __str__(self):\n",
        "        return f\"Event: {self.name}, Date: {self.date}, Time: {self.time}, Location: {self.location}, Attendees: {self.get_total_attendees()}\"\n",
        "\n",
        "# Derived class for Private Events\n",
        "class PrivateEvent(Event):\n",
        "    def __init__(self, name, date, time, location, host_name):\n",
        "        super().__init__(name, date, time, location)\n",
        "        self.host_name = host_name\n",
        "\n",
        "    def send_invitation(self):\n",
        "        print(f\"Invitation sent by {self.host_name} for the event {self.name}.\")\n",
        "\n",
        "# Derived class for Public Events\n",
        "class PublicEvent(Event):\n",
        "    def __init__(self, name, date, time, location, entry_fee):\n",
        "        super().__init__(name, date, time, location)\n",
        "        self.entry_fee = entry_fee\n",
        "\n",
        "    def promote_event(self):\n",
        "        print(f\"Public event {self.name} is being promoted. Entry fee: ${self.entry_fee}\")\n",
        "\n",
        "# Event Management\n",
        "class EventManager:\n",
        "    def __init__(self):\n",
        "        self.events = []\n",
        "\n",
        "    def create_event(self, event):\n",
        "        self.events.append(event)\n",
        "        print(f\"Event '{event.name}' has been created.\")\n",
        "\n",
        "    def display_events(self):\n",
        "        for event in self.events:\n",
        "            print(event)\n",
        "\n",
        "# Example Usage\n",
        "manager = EventManager()\n",
        "wedding = PrivateEvent(\"Wedding\", \"2024-09-15\", \"5:00 PM\", \"Beach Resort\", \"Alice\")\n",
        "concert = PublicEvent(\"Concert\", \"2024-08-30\", \"7:00 PM\", \"City Park\", 20.00)\n",
        "\n",
        "manager.create_event(wedding)\n",
        "manager.create_event(concert)\n",
        "\n",
        "wedding.add_attendee(\"John\")\n",
        "wedding.add_attendee(\"Mary\")\n",
        "concert.add_attendee(\"Chris\")\n",
        "\n",
        "manager.display_events()\n",
        "\n",
        "# Example of Event-specific Methods\n",
        "wedding.send_invitation()\n",
        "concert.promote_event()\n"
      ],
      "metadata": {
        "colab": {
          "base_uri": "https://localhost:8080/"
        },
        "id": "oQH7qVPsb1Im",
        "outputId": "33755093-acea-4e99-a2da-fdc7a6c1560a"
      },
      "execution_count": null,
      "outputs": [
        {
          "output_type": "stream",
          "name": "stdout",
          "text": [
            "Event 'Wedding' has been created.\n",
            "Event 'Concert' has been created.\n",
            "Event: Wedding, Date: 2024-09-15, Time: 5:00 PM, Location: Beach Resort, Attendees: 2\n",
            "Event: Concert, Date: 2024-08-30, Time: 7:00 PM, Location: City Park, Attendees: 1\n",
            "Invitation sent by Alice for the event Wedding.\n",
            "Public event Concert is being promoted. Entry fee: $20.0\n"
          ]
        }
      ]
    },
    {
      "cell_type": "code",
      "source": [
        "#10.Write a code for Airline Reservation System using OOPS:\n",
        "#Create a Flight class that has attributes such as flight number, departure and arrival airports, departure and arrival times, and available seats (private).\n",
        "#Implement methods to book a seat, cancel a reservation, and get the remaining available seats.\n",
        "#Use encapsulation to hide the flight's unique identification number.\n",
        "#Inherit from the Flight class to create a Domestic Flight class and an InternationalFlight class, each with their own specific attributes and methods."
      ],
      "metadata": {
        "id": "NnX_WPvSSOTn"
      },
      "execution_count": null,
      "outputs": []
    },
    {
      "cell_type": "code",
      "source": [
        "# Base class for Flights\n",
        "class Flight:\n",
        "    def __init__(self, flight_number, departure_airport, arrival_airport, departure_time, arrival_time, total_seats):\n",
        "        self.__id = id(self)  # Encapsulated unique ID\n",
        "        self.flight_number = flight_number\n",
        "        self.departure_airport = departure_airport\n",
        "        self.arrival_airport = arrival_airport\n",
        "        self.departure_time = departure_time\n",
        "        self.arrival_time = arrival_time\n",
        "        self.__available_seats = total_seats  # Private attribute\n",
        "\n",
        "    def book_seat(self):\n",
        "        if self.__available_seats > 0:\n",
        "            self.__available_seats -= 1\n",
        "            print(f\"Seat booked on flight {self.flight_number}.\")\n",
        "        else:\n",
        "            print(\"No available seats.\")\n",
        "\n",
        "    def cancel_reservation(self):\n",
        "        self.__available_seats += 1\n",
        "        print(f\"Reservation cancelled on flight {self.flight_number}.\")\n",
        "\n",
        "    def get_remaining_seats(self):\n",
        "        return self.__available_seats\n",
        "\n",
        "    def __str__(self):\n",
        "        return f\"Flight {self.flight_number} from {self.departure_airport} to {self.arrival_airport}, Departure: {self.departure_time}, Arrival: {self.arrival_time}, Seats Available: {self.get_remaining_seats()}\"\n",
        "\n",
        "# Derived class for Domestic Flights\n",
        "class DomesticFlight(Flight):\n",
        "    def __init__(self, flight_number, departure_airport, arrival_airport, departure_time, arrival_time, total_seats, state_tax):\n",
        "        super().__init__(flight_number, departure_airport, arrival_airport, departure_time, arrival_time, total_seats)\n",
        "        self.state_tax = state_tax\n",
        "\n",
        "# Derived class for International Flights\n",
        "class InternationalFlight(Flight):\n",
        "    def __init__(self, flight_number, departure_airport, arrival_airport, departure_time, arrival_time, total_seats, passport_required):\n",
        "        super().__init__(flight_number, departure_airport, arrival_airport, departure_time, arrival_time, total_seats)\n",
        "        self.passport_required = passport_required\n",
        "\n",
        "# Airline Reservation System Management\n",
        "class AirlineReservationSystem:\n",
        "    def __init__(self):\n",
        "        self.flights = []\n",
        "\n",
        "    def add_flight(self, flight):\n",
        "        self.flights.append(flight)\n",
        "        print(f\"Flight {flight.flight_number} added to the system.\")\n",
        "\n",
        "    def display_flights(self):\n",
        "        for flight in self.flights:\n",
        "            print(flight)\n",
        "\n",
        "# Example Usage\n",
        "system = AirlineReservationSystem()\n",
        "flight1 = DomesticFlight(\"AI101\", \"JFK\", \"LAX\", \"08:00 AM\", \"11:00 AM\", 150, state_tax=8.25)\n",
        "flight2 = InternationalFlight(\"AI202\", \"JFK\", \"LHR\", \"06:00 PM\", \"06:00 AM\", 200, passport_required=True)\n",
        "\n",
        "system.add_flight(flight1)\n",
        "system.add_flight(flight2)\n",
        "\n",
        "flight1.book_seat()\n",
        "flight2.book_seat()\n",
        "flight2.cancel_reservation()\n",
        "\n",
        "system.display_flights()\n"
      ],
      "metadata": {
        "colab": {
          "base_uri": "https://localhost:8080/"
        },
        "id": "x58rYoRxcS9f",
        "outputId": "c92f4062-c12c-4215-da52-127f0cedb210"
      },
      "execution_count": null,
      "outputs": [
        {
          "output_type": "stream",
          "name": "stdout",
          "text": [
            "Flight AI101 added to the system.\n",
            "Flight AI202 added to the system.\n",
            "Seat booked on flight AI101.\n",
            "Seat booked on flight AI202.\n",
            "Reservation cancelled on flight AI202.\n",
            "Flight AI101 from JFK to LAX, Departure: 08:00 AM, Arrival: 11:00 AM, Seats Available: 149\n",
            "Flight AI202 from JFK to LHR, Departure: 06:00 PM, Arrival: 06:00 AM, Seats Available: 200\n"
          ]
        }
      ]
    },
    {
      "cell_type": "code",
      "source": [
        "#11. Define a Python module named constants.py containing constants like pi and the speed of light."
      ],
      "metadata": {
        "id": "Wv4WrQKSdOzA"
      },
      "execution_count": null,
      "outputs": []
    },
    {
      "cell_type": "code",
      "source": [
        "# constants.py\n",
        "\n",
        "# Mathematical constants\n",
        "PI = 3.141592653589793\n",
        "\n",
        "# Physical constants\n",
        "SPEED_OF_LIGHT = 299792458  # in meters per second\n",
        "GRAVITATIONAL_CONSTANT = 6.67430e-11  # in m^3 kg^-1 s^-2\n",
        "\n",
        "# Other useful constants\n",
        "AVOGADRO_NUMBER = 6.02214076e23  # in mol^-1\n",
        "PLANCK_CONSTANT = 6.62607015e-34  # in m^2 kg / s\n"
      ],
      "metadata": {
        "id": "VruXrxRmdlUT"
      },
      "execution_count": null,
      "outputs": []
    },
    {
      "cell_type": "code",
      "source": [
        "#12. Write a Python module named calculator.py containing functions for addition, subtraction, multiplication, and division."
      ],
      "metadata": {
        "id": "ujde8PVsiJ1_"
      },
      "execution_count": null,
      "outputs": []
    },
    {
      "cell_type": "code",
      "source": [
        "# calculator.py\n",
        "\n",
        "def add(a, b):\n",
        "    \"\"\"Returns the sum of a and b.\"\"\"\n",
        "    return a + b\n",
        "\n",
        "def subtract(a, b):\n",
        "    \"\"\"Returns the difference of a and b.\"\"\"\n",
        "    return a - b\n",
        "\n",
        "def multiply(a, b):\n",
        "    \"\"\"Returns the product of a and b.\"\"\"\n",
        "    return a * b\n",
        "\n",
        "def divide(a, b):\n",
        "    \"\"\"Returns the quotient of a and b. Raises an error if b is zero.\"\"\"\n",
        "    if b == 0:\n",
        "        raise ValueError(\"Cannot divide by zero.\")\n",
        "    return a / b\n"
      ],
      "metadata": {
        "id": "UJGPnEF3irmi"
      },
      "execution_count": null,
      "outputs": []
    },
    {
      "cell_type": "code",
      "source": [
        "#13. Implement a Python package structure for a project named ecommerce, containing modules for product management and order processing."
      ],
      "metadata": {
        "id": "qdwoC0rri0GS"
      },
      "execution_count": null,
      "outputs": []
    },
    {
      "cell_type": "code",
      "source": [
        "# constants.py\n",
        "\n",
        "# Mathematical constants\n",
        "PI = 3.141592653589793\n",
        "\n",
        "# Physical constants\n",
        "SPEED_OF_LIGHT = 299792458  # in meters per second\n",
        "GRAVITATIONAL_CONSTANT = 6.67430e-11  # in m^3 kg^-1 s^-2\n",
        "\n",
        "# Other useful constants\n",
        "AVOGADRO_NUMBER = 6.02214076e23  # in mol^-1\n",
        "PLANCK_CONSTANT = 6.62607015e-34  # in m^2 kg / s\n"
      ],
      "metadata": {
        "id": "uPXmE-zWpnhl"
      },
      "execution_count": null,
      "outputs": []
    },
    {
      "cell_type": "code",
      "source": [
        "#14. Implement a Python module named string_utils.py containing functions for string manipulation, such as reversing and capitalizing strings."
      ],
      "metadata": {
        "id": "lul-M2Qnpp2R"
      },
      "execution_count": null,
      "outputs": []
    },
    {
      "cell_type": "code",
      "source": [
        "# string_utils.py\n",
        "\n",
        "def reverse_string(s):\n",
        "    \"\"\"Returns the reversed version of the input string.\"\"\"\n",
        "    return s[::-1]\n",
        "\n",
        "def capitalize_string(s):\n",
        "    \"\"\"Returns the string with the first letter capitalized.\"\"\"\n",
        "    return s.capitalize()\n",
        "\n",
        "def to_uppercase(s):\n",
        "    \"\"\"Returns the string in uppercase.\"\"\"\n",
        "    return s.upper()\n",
        "\n",
        "def to_lowercase(s):\n",
        "    \"\"\"Returns the string in lowercase.\"\"\"\n",
        "    return s.lower()\n"
      ],
      "metadata": {
        "id": "WN0th8bZpyxp"
      },
      "execution_count": null,
      "outputs": []
    },
    {
      "cell_type": "code",
      "source": [
        "#15. Write a Python module named file_operations.py with functions for reading, writing, and appending data to a file."
      ],
      "metadata": {
        "id": "N4gCD0PQqgSv"
      },
      "execution_count": null,
      "outputs": []
    },
    {
      "cell_type": "code",
      "source": [
        "# file_operations.py\n",
        "\n",
        "def write_to_file(file_path, data):\n",
        "    \"\"\"Writes the provided data to the specified file, overwriting any existing content.\"\"\"\n",
        "    with open(file_path, 'w') as file:\n",
        "        file.write(data)\n",
        "\n",
        "def append_to_file(file_path, data):\n",
        "    \"\"\"Appends the provided data to the specified file.\"\"\"\n",
        "    with open(file_path, 'a') as file:\n",
        "        file.write(data)\n",
        "\n",
        "def read_from_file(file_path):\n",
        "    \"\"\"Reads and returns the content of the specified file.\"\"\"\n",
        "    with open(file_path, 'r') as file:\n",
        "        return file.read()\n"
      ],
      "metadata": {
        "id": "VOq9fbFRqljy"
      },
      "execution_count": null,
      "outputs": []
    },
    {
      "cell_type": "code",
      "source": [
        "#16. Write a Python program to create a text file named \"employees.txt\" and write the details of employees, including their name, age, and salary, into the file."
      ],
      "metadata": {
        "id": "LFmMJVFSrULN"
      },
      "execution_count": null,
      "outputs": []
    },
    {
      "cell_type": "code",
      "source": [
        "# Define employee details\n",
        "employees = [\n",
        "    {\"name\": \"Alice\", \"age\": 30, \"salary\": 70000},\n",
        "    {\"name\": \"Bob\", \"age\": 25, \"salary\": 50000},\n",
        "    {\"name\": \"Charlie\", \"age\": 35, \"salary\": 80000}\n",
        "]\n",
        "\n",
        "# File path\n",
        "file_path = \"employees.txt\"\n",
        "\n",
        "# Write employee details to the file\n",
        "with open(file_path, 'w') as file:\n",
        "    for employee in employees:\n",
        "        line = f\"Name: {employee['name']}, Age: {employee['age']}, Salary: ${employee['salary']}\\n\"\n",
        "        file.write(line)\n",
        "\n",
        "print(f\"Employee details have been written to {file_path}.\")\n"
      ],
      "metadata": {
        "colab": {
          "base_uri": "https://localhost:8080/"
        },
        "id": "UBExbDICtSD0",
        "outputId": "037ce232-3e18-42b0-a67a-6b44ffec0eba"
      },
      "execution_count": null,
      "outputs": [
        {
          "output_type": "stream",
          "name": "stdout",
          "text": [
            "Employee details have been written to employees.txt.\n"
          ]
        }
      ]
    },
    {
      "cell_type": "code",
      "source": [
        "#17. Develop a Python script that opens an existing text file named \"inventory.txt\" in read mode and displays the contents of the file line by line."
      ],
      "metadata": {
        "id": "EI_MOoRytVna"
      },
      "execution_count": null,
      "outputs": []
    },
    {
      "cell_type": "code",
      "source": [
        "# File path\n",
        "file_path = \"inventory.txt\"\n",
        "\n",
        "# Open the file and read line by line\n",
        "try:\n",
        "    with open(file_path, 'r') as file:\n",
        "        for line in file:\n",
        "            print(line, end='')  # Print each line without adding extra newlines\n",
        "except FileNotFoundError:\n",
        "    print(f\"The file {file_path} does not exist.\")\n"
      ],
      "metadata": {
        "colab": {
          "base_uri": "https://localhost:8080/"
        },
        "id": "UYCYGs_ctvaK",
        "outputId": "11ac021a-43f5-4dae-a4f5-f654a41ab16d"
      },
      "execution_count": null,
      "outputs": [
        {
          "output_type": "stream",
          "name": "stdout",
          "text": [
            "The file inventory.txt does not exist.\n"
          ]
        }
      ]
    },
    {
      "cell_type": "code",
      "source": [
        "#18. Create a Python script that reads a text file named \"expenses.txt\" and calculates the total amount spent on various expenses listed in the file."
      ],
      "metadata": {
        "id": "FMFM_MCfuAxF"
      },
      "execution_count": null,
      "outputs": []
    },
    {
      "cell_type": "code",
      "source": [
        "# File path\n",
        "file_path = \"expenses.txt\"\n",
        "\n",
        "# Initialize total amount\n",
        "total_amount = 0.0\n",
        "\n",
        "# Open the file and process each line\n",
        "try:\n",
        "    with open(file_path, 'r') as file:\n",
        "        for line in file:\n",
        "            try:\n",
        "                # Convert line to float and add to total_amount\n",
        "                amount = float(line.strip())\n",
        "                total_amount += amount\n",
        "            except ValueError:\n",
        "                print(f\"Skipping invalid line: {line.strip()}\")\n",
        "\n",
        "    print(f\"Total amount spent: ${total_amount:.2f}\")\n",
        "\n",
        "except FileNotFoundError:\n",
        "    print(f\"The file {file_path} does not exist.\")\n"
      ],
      "metadata": {
        "colab": {
          "base_uri": "https://localhost:8080/"
        },
        "id": "nxClkgoWuYlH",
        "outputId": "2a51e27e-a5f6-4c7e-f550-25be920e10e2"
      },
      "execution_count": null,
      "outputs": [
        {
          "output_type": "stream",
          "name": "stdout",
          "text": [
            "The file expenses.txt does not exist.\n"
          ]
        }
      ]
    },
    {
      "cell_type": "code",
      "source": [
        "#19. Create a Python program that reads a text file named \"paragraph.txt\" and counts the occurrences of each word in the paragraph, displaying the results in alphabetical order."
      ],
      "metadata": {
        "id": "OyXGmTAHucZd"
      },
      "execution_count": null,
      "outputs": []
    },
    {
      "cell_type": "code",
      "source": [
        "from collections import Counter\n",
        "import re\n",
        "\n",
        "# File path\n",
        "file_path = \"paragraph.txt\"\n",
        "\n",
        "# Initialize a Counter to count word occurrences\n",
        "word_count = Counter()\n",
        "\n",
        "# Read the file and process its content\n",
        "try:\n",
        "    with open(file_path, 'r') as file:\n",
        "        text = file.read()\n",
        "        # Use regex to find words and convert them to lowercase\n",
        "        words = re.findall(r'\\b\\w+\\b', text.lower())\n",
        "        word_count.update(words)\n",
        "\n",
        "    # Display word counts in alphabetical order\n",
        "    for word in sorted(word_count):\n",
        "        print(f\"{word}: {word_count[word]}\")\n",
        "\n",
        "except FileNotFoundError:\n",
        "    print(f\"The file {file_path} does not exist.\")\n"
      ],
      "metadata": {
        "colab": {
          "base_uri": "https://localhost:8080/"
        },
        "id": "U1l8Yybbu2ET",
        "outputId": "653833cc-9447-475e-c764-91170c22ba78"
      },
      "execution_count": null,
      "outputs": [
        {
          "output_type": "stream",
          "name": "stdout",
          "text": [
            "The file paragraph.txt does not exist.\n"
          ]
        }
      ]
    },
    {
      "cell_type": "code",
      "source": [
        "#20. What do you mean by Measure of Central Tendency and Measures of Dispersion .How it can be calculated."
      ],
      "metadata": {
        "id": "aPGZbYaiu6AG"
      },
      "execution_count": null,
      "outputs": []
    },
    {
      "cell_type": "markdown",
      "source": [
        "Measures of Central Tendency\n",
        "Mean: Average value.\n",
        "Mean\n",
        "=\n",
        "∑\n",
        "𝑥\n",
        "𝑖\n",
        "𝑛\n",
        "Mean=\n",
        "n\n",
        "∑x\n",
        "i\n",
        "​\n",
        "\n",
        "​\n",
        "\n",
        "Median: Middle value when sorted.\n",
        "Mode: Most frequent value.\n",
        "Measures of Dispersion\n",
        "Range: Difference between max and min.\n",
        "Range\n",
        "=\n",
        "Max\n",
        "−\n",
        "Min\n",
        "Range=Max−Min\n",
        "Variance: Average of squared differences from the mean.\n",
        "Variance\n",
        "=\n",
        "∑\n",
        "(\n",
        "𝑥\n",
        "𝑖\n",
        "−\n",
        "Mean\n",
        ")\n",
        "2\n",
        "𝑛\n",
        "Variance=\n",
        "n\n",
        "∑(x\n",
        "i\n",
        "​\n",
        " −Mean)\n",
        "2\n",
        "\n",
        "​\n",
        "\n",
        "Standard Deviation: Square root of variance.\n",
        "IQR: Range between the 1st and 3rd quartiles.\n",
        "IQR\n",
        "=\n",
        "𝑄\n",
        "3\n",
        "−\n",
        "𝑄\n",
        "1\n",
        "IQR=Q3−Q1"
      ],
      "metadata": {
        "id": "dxCwGYvnwIpv"
      }
    },
    {
      "cell_type": "code",
      "source": [
        "#21. What do you mean by skewness.Explain its types.Use graph to show."
      ],
      "metadata": {
        "id": "aLyO8NP7wLh6"
      },
      "execution_count": null,
      "outputs": []
    },
    {
      "cell_type": "markdown",
      "source": [
        "Skewness\n",
        "Skewness measures the asymmetry of a data distribution.\n",
        "\n",
        "Types\n",
        "Positive Skew (Right Skew):\n",
        "\n",
        "Tail: Right side longer.\n",
        "Graph: Peak on left, tail on right.\n",
        "Negative Skew (Left Skew):\n",
        "\n",
        "Tail: Left side longer.\n",
        "Graph: Peak on right, tail on left.\n",
        "Symmetric:\n",
        "\n",
        "Tail: Even on both sides.\n",
        "Graph: Bell-shaped or uniform.\n",
        "Graphs:\n",
        "\n",
        "Positive Skew: Tail on the right.\n",
        "Negative Skew: Tail on the left.\n",
        "Symmetric: Even distribution."
      ],
      "metadata": {
        "id": "W908tyZJw8Wy"
      }
    },
    {
      "cell_type": "code",
      "source": [
        "#22. Explain PROBABILITY MASS FUNCTION (PMF) and PROBABILITY DENSITY FUNCTION (PDF). and what is the difference between them?"
      ],
      "metadata": {
        "id": "V1qwI-1Uw-Tm"
      },
      "execution_count": null,
      "outputs": []
    },
    {
      "cell_type": "markdown",
      "source": [
        "PMF (Probability Mass Function)\n",
        "For: Discrete random variables.\n",
        "Gives: Probability of exact outcomes.\n",
        "Sum: Total probabilities = 1.\n",
        "PDF (Probability Density Function)\n",
        "For: Continuous random variables.\n",
        "Gives: Density of outcomes; probabilities are found by integrating.\n",
        "Area: Total area under the curve = 1.\n",
        "Difference: PMF provides exact probabilities for discrete values; PDF provides density, and probabilities are found over intervals by integration."
      ],
      "metadata": {
        "id": "PojjiJW7xQbn"
      }
    },
    {
      "cell_type": "code",
      "source": [
        "#23. What is correlation. Explain its type in details.what are the methods of determining correlation"
      ],
      "metadata": {
        "id": "SpeSoStqxRfX"
      },
      "execution_count": null,
      "outputs": []
    },
    {
      "cell_type": "markdown",
      "source": [
        "Correlation\n",
        "Definition: Measures the linear relationship between two variables.\n",
        "Types\n",
        "Positive Correlation: Both variables increase together.\n",
        "𝑟\n",
        "r > 0.\n",
        "Negative Correlation: One variable increases as the other decreases.\n",
        "𝑟\n",
        "r < 0.\n",
        "No Correlation: No linear relationship.\n",
        "𝑟\n",
        "r ≈ 0.\n",
        "Methods\n",
        "Pearson: For linear relationships.\n",
        "𝑟\n",
        "r ranges from -1 to +1.\n",
        "Spearman's Rank: For non-linear but monotonic relationships or ordinal data.\n",
        "𝜌\n",
        "ρ ranges from -1 to +1.\n",
        "Kendall's Tau: For ordinal data and monotonic relationships.\n",
        "𝜏\n",
        "τ ranges from -1 to +1."
      ],
      "metadata": {
        "id": "w2PLoGUKx4Og"
      }
    },
    {
      "cell_type": "code",
      "source": [
        "#24. Calculate coefficient of correlation between the marks obtained by 10 students in Accountancy and statistics:\n",
        "#Student     1     2     3     4     5    6     7     8     9     10\n",
        "#Accountancy 45    70    65    30    90   40   50     75    85   60\n",
        "#Statistics  35    90    70    40    95   40   60    80     80   50\n",
        "#Use Karl Pearson's Coefficient of Correlation Method to find it."
      ],
      "metadata": {
        "id": "iidYBVZ0ch9Y"
      },
      "execution_count": null,
      "outputs": []
    },
    {
      "cell_type": "markdown",
      "source": [
        "To calculate the Pearson correlation coefficient\n",
        "𝑟\n",
        "r:\n",
        "\n",
        "Data\n",
        "Accountancy (X): 45, 70, 65, 30, 90, 40, 50, 75, 85, 60\n",
        "Statistics (Y): 35, 90, 70, 40, 95, 40, 60, 80, 80, 50\n",
        "Formula\n",
        "𝑟\n",
        "=\n",
        "𝑛\n",
        "∑\n",
        "𝑋\n",
        "𝑌\n",
        "−\n",
        "(\n",
        "∑\n",
        "𝑋\n",
        ")\n",
        "(\n",
        "∑\n",
        "𝑌\n",
        ")\n",
        "[\n",
        "𝑛\n",
        "∑\n",
        "𝑋\n",
        "2\n",
        "−\n",
        "(\n",
        "∑\n",
        "𝑋\n",
        ")\n",
        "2\n",
        "]\n",
        "[\n",
        "𝑛\n",
        "∑\n",
        "𝑌\n",
        "2\n",
        "−\n",
        "(\n",
        "∑\n",
        "𝑌\n",
        ")\n",
        "2\n",
        "]\n",
        "r=\n",
        "[n∑X\n",
        "2\n",
        " −(∑X)\n",
        "2\n",
        " ][n∑Y\n",
        "2\n",
        " −(∑Y)\n",
        "2\n",
        " ]\n",
        "​\n",
        "\n",
        "n∑XY−(∑X)(∑Y)\n",
        "​\n",
        "\n",
        "Steps\n",
        "Calculate Sums:\n",
        "\n",
        "∑\n",
        "𝑋\n",
        "=\n",
        "625\n",
        "∑X=625\n",
        "∑\n",
        "𝑌\n",
        "=\n",
        "660\n",
        "∑Y=660\n",
        "∑\n",
        "𝑋\n",
        "𝑌\n",
        "=\n",
        "42\n",
        ",\n",
        "050\n",
        "∑XY=42,050\n",
        "∑\n",
        "𝑋\n",
        "2\n",
        "=\n",
        "39\n",
        ",\n",
        "250\n",
        "∑X\n",
        "2\n",
        " =39,250\n",
        "∑\n",
        "𝑌\n",
        "2\n",
        "=\n",
        "43\n",
        ",\n",
        "350\n",
        "∑Y\n",
        "2\n",
        " =43,350\n",
        "Apply Formula:\n",
        "\n",
        "𝑟\n",
        "=\n",
        "10\n",
        "×\n",
        "42\n",
        ",\n",
        "050\n",
        "−\n",
        "(\n",
        "625\n",
        "×\n",
        "660\n",
        ")\n",
        "[\n",
        "10\n",
        "×\n",
        "39\n",
        ",\n",
        "250\n",
        "−\n",
        "62\n",
        "5\n",
        "2\n",
        "]\n",
        "[\n",
        "10\n",
        "×\n",
        "43\n",
        ",\n",
        "350\n",
        "−\n",
        "66\n",
        "0\n",
        "2\n",
        "]\n",
        "r=\n",
        "[10×39,250−625\n",
        "2\n",
        " ][10×43,350−660\n",
        "2\n",
        " ]\n",
        "​\n",
        "\n",
        "10×42,050−(625×660)\n",
        "​\n",
        "\n",
        "\n",
        "𝑟\n",
        "≈\n",
        "0.94\n",
        "r≈0.94\n",
        "Result\n",
        "The Pearson correlation coefficient\n",
        "𝑟\n",
        "r is approximately 0.94, indicating a strong positive relationship."
      ],
      "metadata": {
        "id": "LEfJRqSUCinv"
      }
    },
    {
      "cell_type": "code",
      "source": [
        "#25. Discuss the 4 differences between correlation and regression."
      ],
      "metadata": {
        "id": "-MkLb0deFlcu"
      },
      "execution_count": null,
      "outputs": []
    },
    {
      "cell_type": "markdown",
      "source": [
        "Here’s a more concise comparison:\n",
        "\n",
        "Purpose:\n",
        "\n",
        "Correlation measures the strength and direction of a relationship between two variables.\n",
        "Regression predicts the value of one variable based on another.\n",
        "Directionality:\n",
        "\n",
        "Correlation is the same in both directions.\n",
        "Regression distinguishes between dependent and independent variables.\n",
        "Measurement:\n",
        "\n",
        "Correlation provides a single coefficient between -1 and 1.\n",
        "Regression gives an equation for predicting values.\n",
        "Scope:\n",
        "\n",
        "Correlation shows relationship strength.\n",
        "Regression allows prediction and assesses impact."
      ],
      "metadata": {
        "id": "mmnsaaqXHTws"
      }
    },
    {
      "cell_type": "code",
      "source": [
        "#26. Find the most likely price at Delhi corresponding to the price of Rs. 70 at Agra from the following data: Coefficient of correlation between the prices of the two places +0.8."
      ],
      "metadata": {
        "id": "03tewAcsFsPi"
      },
      "execution_count": null,
      "outputs": []
    },
    {
      "cell_type": "markdown",
      "source": [
        "To find the most likely price at Delhi corresponding to a price of Rs. 70 at Agra, you'll need the following data:\n",
        "\n",
        "Mean price at Agra (μ₁) and Mean price at Delhi (μ₂).\n",
        "Standard deviation of prices at Agra (σ₁) and Standard deviation of prices at Delhi (σ₂).\n",
        "The formula to calculate the most likely price at Delhi (\n",
        "𝑋\n",
        "2\n",
        "X\n",
        "2\n",
        "​\n",
        " ) is:\n",
        "\n",
        "𝑋\n",
        "2\n",
        "=\n",
        "𝜇\n",
        "2\n",
        "+\n",
        "𝑟\n",
        "×\n",
        "𝜎\n",
        "2\n",
        "𝜎\n",
        "1\n",
        "×\n",
        "(\n",
        "𝑋\n",
        "1\n",
        "−\n",
        "𝜇\n",
        "1\n",
        ")\n",
        "X\n",
        "2\n",
        "​\n",
        " =μ\n",
        "2\n",
        "​\n",
        " +r×\n",
        "σ\n",
        "1\n",
        "​\n",
        "\n",
        "σ\n",
        "2\n",
        "​\n",
        "\n",
        "​\n",
        " ×(X\n",
        "1\n",
        "​\n",
        " −μ\n",
        "1\n",
        "​\n",
        " )\n",
        "Where:\n",
        "\n",
        "𝑟\n",
        "r is the correlation coefficient (+0.8).\n",
        "𝑋\n",
        "1\n",
        "X\n",
        "1\n",
        "​\n",
        "  is the given price at Agra (Rs. 70).\n",
        "However, since the mean prices and standard deviations are not provided, we can't calculate the exact price at Delhi. If these values are available, you can use the formula above to find the answer."
      ],
      "metadata": {
        "id": "bRTEuPdJHhCG"
      }
    },
    {
      "cell_type": "code",
      "source": [
        "#27. In a partially destroyed laboratory record of an analysis of correlation data, the following results only are legible: Variance of x = 9, Regression equations are: (i) 8x-10y=-66; (ii) 40x - 18y = 214. What are (a) the mean values of x and y, (b) the coefficient of correlation between x and y, (c) the σ of y."
      ],
      "metadata": {
        "id": "TZyLTuneHjm_"
      },
      "execution_count": null,
      "outputs": []
    },
    {
      "cell_type": "markdown",
      "source": [
        "Given:\n",
        "Variance of\n",
        "𝑥\n",
        "=\n",
        "9\n",
        "x=9 (i.e.,\n",
        "𝜎\n",
        "𝑥\n",
        "=\n",
        "3\n",
        "σ\n",
        "x\n",
        "​\n",
        " =3)\n",
        "Regression equations:\n",
        "8\n",
        "𝑥\n",
        "−\n",
        "10\n",
        "𝑦\n",
        "=\n",
        "−\n",
        "66\n",
        "8x−10y=−66\n",
        "40\n",
        "𝑥\n",
        "−\n",
        "18\n",
        "𝑦\n",
        "=\n",
        "214\n",
        "40x−18y=214\n",
        "(a) Mean Values of\n",
        "𝑥\n",
        "x and\n",
        "𝑦\n",
        "y:\n",
        "At the means, both regression equations intersect:\n",
        "\n",
        "4\n",
        "5\n",
        "𝑥\n",
        "‾\n",
        "+\n",
        "33\n",
        "5\n",
        "=\n",
        "20\n",
        "9\n",
        "𝑥\n",
        "‾\n",
        "−\n",
        "107\n",
        "9\n",
        "5\n",
        "4\n",
        "​\n",
        "  \n",
        "x\n",
        " +\n",
        "5\n",
        "33\n",
        "​\n",
        " =\n",
        "9\n",
        "20\n",
        "​\n",
        "  \n",
        "x\n",
        " −\n",
        "9\n",
        "107\n",
        "​\n",
        "\n",
        "Solve for\n",
        "𝑥\n",
        "‾\n",
        "x\n",
        " , then substitute to find\n",
        "𝑦\n",
        "‾\n",
        "y\n",
        "​\n",
        " .\n",
        "\n",
        "(b) Coefficient of Correlation (\n",
        "𝑟\n",
        "r):\n",
        "𝑟\n",
        "=\n",
        "4\n",
        "5\n",
        "×\n",
        "20\n",
        "9\n",
        "=\n",
        "80\n",
        "45\n",
        "=\n",
        "16\n",
        "9\n",
        "=\n",
        "4\n",
        "3\n",
        "r=\n",
        "5\n",
        "4\n",
        "​\n",
        " ×\n",
        "9\n",
        "20\n",
        "​\n",
        "\n",
        "​\n",
        " =\n",
        "45\n",
        "80\n",
        "​\n",
        "\n",
        "​\n",
        " =\n",
        "9\n",
        "16\n",
        "​\n",
        "\n",
        "​\n",
        " =\n",
        "3\n",
        "4\n",
        "​\n",
        "\n",
        "(c) Standard Deviation of\n",
        "𝑦\n",
        "y (\n",
        "𝜎\n",
        "𝑦\n",
        "σ\n",
        "y\n",
        "​\n",
        " ):\n",
        "𝜎\n",
        "𝑦\n",
        "=\n",
        "3\n",
        "×\n",
        "20\n",
        "9\n",
        "=\n",
        "60\n",
        "9\n",
        "=\n",
        "20\n",
        "3\n",
        "σ\n",
        "y\n",
        "​\n",
        " =3×\n",
        "9\n",
        "20\n",
        "​\n",
        " =\n",
        "9\n",
        "60\n",
        "​\n",
        " =\n",
        "3\n",
        "20\n",
        "​\n"
      ],
      "metadata": {
        "id": "JFQ_pt7s6g69"
      }
    },
    {
      "cell_type": "code",
      "source": [
        "#28. What is Normal Distribution? What are the four Assumptions of Normal Distribution? Explain in detail."
      ],
      "metadata": {
        "id": "252hRkv86gNn"
      },
      "execution_count": null,
      "outputs": []
    },
    {
      "cell_type": "markdown",
      "source": [
        "Normal Distribution:\n",
        "A Normal Distribution is a bell-shaped, symmetrical curve where the mean, median, and mode are equal. It's used to describe data that clusters around a central value.\n",
        "\n",
        "Four Assumptions:\n",
        "Linearity: The relationship between variables is linear.\n",
        "Independence: Observations are independent of each other.\n",
        "Homoscedasticity: Variance is constant across all levels of variables.\n",
        "Normality: Data errors follow a normal distribution.\n",
        "\n",
        "\n",
        "\n",
        "\n",
        "\n"
      ],
      "metadata": {
        "id": "NonSC1k863yM"
      }
    },
    {
      "cell_type": "code",
      "source": [
        "#29. Write all the characteristics or Properties of the Normal Distribution Curve."
      ],
      "metadata": {
        "id": "pTzMZNKg671n"
      },
      "execution_count": null,
      "outputs": []
    },
    {
      "cell_type": "markdown",
      "source": [
        "The characteristics of the Normal Distribution Curve are:\n",
        "\n",
        "Bell-shaped Curve: Symmetrical around the mean.\n",
        "Mean, Median, Mode: All are equal and located at the center.\n",
        "Asymptotic: The curve never touches the x-axis.\n",
        "Unimodal: Has a single peak.\n",
        "68-95-99.7 Rule: About 68% of data lies within 1 standard deviation, 95% within 2, and 99.7% within 3 standard deviations from the mean.\n",
        "Total Area: The area under the curve equals 1.\n",
        "Symmetry: Divided into two equal halves by the mean.\n",
        "Continuous: Values range from negative to positive infinity.\n",
        "\n",
        "\n",
        "\n",
        "\n",
        "\n",
        "\n"
      ],
      "metadata": {
        "id": "Snw4BNf0dsEq"
      }
    },
    {
      "cell_type": "code",
      "source": [
        "#30. Which of the following options are correct about Normal Distribution Curve.\n",
        "#(a) Within a range 0.6745 of o on both sides the middle 50% of the observations occur i,e, mean ±0.67450 covers 50% area 25% on each side.\n",
        "#(b) Mean ±1S.D. (i,e.ulo) covers 68.268% area, 34.134 % area lies on either side of the mean.\n",
        "#(c) Mean ±2S.D. (i,e. μ +20) covers 95.45% area, 47.725% area lies on either side of the mean.\n",
        "#(d) Mean ±3 S.D. (i,e. μ ±30) covers 99.73% area, 49.856% area lies on the either side of the mean. (e) Only 0.27% area is outside the range μ ±30."
      ],
      "metadata": {
        "id": "NWJoev8qd3q9"
      },
      "execution_count": null,
      "outputs": []
    },
    {
      "cell_type": "markdown",
      "source": [
        "The correct options about the Normal Distribution Curve are:\n",
        "\n",
        "(b) Mean ±1S.D. (i.e., μ ± σ) covers 68.268% area, 34.134% area lies on either side of the mean.\n",
        "(c) Mean ±2S.D. (i.e., μ ± 2σ) covers 95.45% area, 47.725% area lies on either side of the mean.\n",
        "(d) Mean ±3 S.D. (i.e., μ ± 3σ) covers 99.73% area, 49.865% area lies on either side of the mean.\n",
        "(e) Only 0.27% area is outside the range μ ± 3σ."
      ],
      "metadata": {
        "id": "OKRcR9xWeIrc"
      }
    },
    {
      "cell_type": "code",
      "source": [
        "#31. The mean of a distribution is 60 with a standard deviation of 10. Assuming that the distribution is normal, what percentage of items be (i) between 60 and 72, (ii) between 50 and 60, (iii) beyond 72 and (iv) between\n",
        "70 and 80?"
      ],
      "metadata": {
        "id": "KzbgODZqeLiX"
      },
      "execution_count": null,
      "outputs": []
    },
    {
      "cell_type": "markdown",
      "source": [
        "Given a normal distribution with a mean (μ) of 60 and a standard deviation (σ) of 10:\n",
        "\n",
        "Between 60 and 72:\n",
        "𝑧\n",
        "=\n",
        "72\n",
        "−\n",
        "60\n",
        "10\n",
        "=\n",
        "1.2\n",
        "z=\n",
        "10\n",
        "72−60\n",
        "​\n",
        " =1.2\n",
        "\n",
        "Percentage: 38.21%\n",
        "Between 50 and 60:\n",
        "𝑧\n",
        "=\n",
        "60\n",
        "−\n",
        "50\n",
        "10\n",
        "=\n",
        "1\n",
        "z=\n",
        "10\n",
        "60−50\n",
        "​\n",
        " =1\n",
        "\n",
        "Percentage: 34.13%\n",
        "Beyond 72:\n",
        "\n",
        "Percentage: 11.51%\n",
        "Between 70 and 80:\n",
        "\n",
        "Percentage: 18.41%"
      ],
      "metadata": {
        "id": "9RqZzxB2eVXj"
      }
    },
    {
      "cell_type": "code",
      "source": [
        "#32. 15000 students sat for an examination. The mean marks was 49 and the distribution of marks had a standard deviation of 6. Assuming that the marks were normally distributed what proportion of students scored (a) more than 55 marks, (b) more than 70 marks"
      ],
      "metadata": {
        "id": "Fj9JoqHfeXZX"
      },
      "execution_count": null,
      "outputs": []
    },
    {
      "cell_type": "markdown",
      "source": [
        "Given a normal distribution with a mean (μ) of 49 and a standard deviation (σ) of 6:\n",
        "\n",
        "Proportion of students who scored more than 55 marks:\n",
        "\n",
        "𝑧\n",
        "=\n",
        "55\n",
        "−\n",
        "49\n",
        "6\n",
        "=\n",
        "1\n",
        "z=\n",
        "6\n",
        "55−49\n",
        "​\n",
        " =1\n",
        "Proportion: 15.87%\n",
        "Proportion of students who scored more than 70 marks:\n",
        "\n",
        "𝑧\n",
        "=\n",
        "70\n",
        "−\n",
        "49\n",
        "6\n",
        "=\n",
        "3.5\n",
        "z=\n",
        "6\n",
        "70−49\n",
        "​\n",
        " =3.5\n",
        "Proportion: 0.02%"
      ],
      "metadata": {
        "id": "Gd66psKfembl"
      }
    },
    {
      "cell_type": "code",
      "source": [
        "#33. If the height of 500 students are normally distributed with mean 65 inch and standard deviation 5 inch. How many students have height: a) greater than 70 inch. b) between 60 and 70 inch."
      ],
      "metadata": {
        "id": "5vl7OOBteoTu"
      },
      "execution_count": null,
      "outputs": []
    },
    {
      "cell_type": "markdown",
      "source": [
        "Given a normal distribution with a mean (μ) of 65 inches and a standard deviation (σ) of 5 inches for 500 students:\n",
        "\n",
        "Students with height greater than 70 inches:\n",
        "\n",
        "𝑧\n",
        "=\n",
        "70\n",
        "−\n",
        "65\n",
        "5\n",
        "=\n",
        "1\n",
        "z=\n",
        "5\n",
        "70−65\n",
        "​\n",
        " =1\n",
        "Proportion above 70 inches: 15.87%\n",
        "Number of students:\n",
        "500\n",
        "×\n",
        "0.1587\n",
        "=\n",
        "79\n",
        "500×0.1587=79 students.\n",
        "Students with height between 60 and 70 inches:\n",
        "\n",
        "For 60 inches:\n",
        "𝑧\n",
        "=\n",
        "60\n",
        "−\n",
        "65\n",
        "5\n",
        "=\n",
        "−\n",
        "1\n",
        "z=\n",
        "5\n",
        "60−65\n",
        "​\n",
        " =−1\n",
        "For 70 inches:\n",
        "𝑧\n",
        "=\n",
        "70\n",
        "−\n",
        "65\n",
        "5\n",
        "=\n",
        "1\n",
        "z=\n",
        "5\n",
        "70−65\n",
        "​\n",
        " =1\n",
        "Proportion between 60 and 70 inches: 68.27%\n",
        "Number of students:\n",
        "500\n",
        "×\n",
        "0.6827\n",
        "=\n",
        "341\n",
        "500×0.6827=341 students."
      ],
      "metadata": {
        "id": "eZqujXEQeta3"
      }
    },
    {
      "cell_type": "code",
      "source": [
        "#34. What is the statistical hypothesis? Explain the errors in hypothesis testing.b) Explain the Sample. What are Large Samples & Small Samples?"
      ],
      "metadata": {
        "id": "WQkqx7r7e4Ak"
      },
      "execution_count": null,
      "outputs": []
    },
    {
      "cell_type": "markdown",
      "source": [
        "Statistical Hypothesis: A testable statement about a population parameter.\n",
        "\n",
        "Errors in Hypothesis Testing:\n",
        "\n",
        "Type I Error: Rejecting a true null hypothesis.\n",
        "Type II Error: Failing to reject a false null hypothesis.\n",
        "Sample: A subset of a population used for analysis.\n",
        "\n",
        "Large Samples:\n",
        "𝑛\n",
        "≥\n",
        "30\n",
        "n≥30; more reliable. Small Samples:\n",
        "𝑛\n",
        "<\n",
        "30\n",
        "n<30; less reliable, use t-distribution."
      ],
      "metadata": {
        "id": "jCIVm6-ufU15"
      }
    },
    {
      "cell_type": "code",
      "source": [
        "#35.A random sample of size 25 from a population gives the sample standard derivation to be 9.0. Test the hypothesis that the population standard derivation is 10.5.\n",
        "#Hint(Use chi-square distribution)."
      ],
      "metadata": {
        "id": "7PdQAAXBfXr7"
      },
      "execution_count": null,
      "outputs": []
    },
    {
      "cell_type": "markdown",
      "source": [
        "Given:\n",
        "\n",
        "Sample size = 25, Sample std dev = 9.0, Population std dev = 10.5\n",
        "Hypotheses:\n",
        "\n",
        "𝐻\n",
        "0\n",
        "H\n",
        "0\n",
        "​\n",
        " :\n",
        "𝜎\n",
        "=\n",
        "10.5\n",
        "σ=10.5\n",
        "𝐻\n",
        "1\n",
        "H\n",
        "1\n",
        "​\n",
        " :\n",
        "𝜎\n",
        "≠\n",
        "10.5\n",
        "σ\n",
        "\n",
        "=10.5\n",
        "Test Statistic:\n",
        "\n",
        "𝜒\n",
        "2\n",
        "=\n",
        "(\n",
        "25\n",
        "−\n",
        "1\n",
        ")\n",
        "×\n",
        "9\n",
        "2\n",
        "10.\n",
        "5\n",
        "2\n",
        "≈\n",
        "17.63\n",
        "χ\n",
        "2\n",
        " =\n",
        "10.5\n",
        "2\n",
        "\n",
        "(25−1)×9\n",
        "2\n",
        "\n",
        "​\n",
        " ≈17.63\n",
        "Conclusion:\n",
        "\n",
        "Compare\n",
        "𝜒\n",
        "2\n",
        "χ\n",
        "2\n",
        "  (17.63) with chi-square table value for 24 df. If\n",
        "𝜒\n",
        "2\n",
        "χ\n",
        "2\n",
        "  is outside the critical range, reject\n",
        "𝐻\n",
        "0\n",
        "H\n",
        "0\n",
        "​\n",
        " ; otherwise, do not reject\n",
        "𝐻\n",
        "0\n",
        "H\n",
        "0\n",
        "​\n",
        " ."
      ],
      "metadata": {
        "id": "d2SsuEwGfpLK"
      }
    },
    {
      "cell_type": "code",
      "source": [
        "#37.100 students of a PW IOI obtained the following grades in Data Science paper: Grade :[A, B, C, D, E]\n",
        "#Total Frequency:[15, 17, 30, 22, 16, 100]\n",
        "#Using the x 2 test, examine the hypothesis that the distribution of grades is uniform."
      ],
      "metadata": {
        "id": "u6seaUJ_Ckv2"
      },
      "execution_count": null,
      "outputs": []
    },
    {
      "cell_type": "markdown",
      "source": [
        "Given:\n",
        "\n",
        "Observed Frequencies: [15, 17, 30, 22, 16]\n",
        "Total = 100 students, Expected Frequency = 20 per grade\n",
        "Hypotheses:\n",
        "\n",
        "𝐻\n",
        "0\n",
        "H\n",
        "0\n",
        "​\n",
        " : Uniform distribution\n",
        "𝐻\n",
        "1\n",
        "H\n",
        "1\n",
        "​\n",
        " : Not uniform\n",
        "Chi-square Statistic:\n",
        "\n",
        "𝜒\n",
        "2\n",
        "=\n",
        "(\n",
        "15\n",
        "−\n",
        "20\n",
        ")\n",
        "2\n",
        "20\n",
        "+\n",
        "(\n",
        "17\n",
        "−\n",
        "20\n",
        ")\n",
        "2\n",
        "20\n",
        "+\n",
        "(\n",
        "30\n",
        "−\n",
        "20\n",
        ")\n",
        "2\n",
        "20\n",
        "+\n",
        "(\n",
        "22\n",
        "−\n",
        "20\n",
        ")\n",
        "2\n",
        "20\n",
        "+\n",
        "(\n",
        "16\n",
        "−\n",
        "20\n",
        ")\n",
        "2\n",
        "20\n",
        "=\n",
        "6.75\n",
        "χ\n",
        "2\n",
        " =\n",
        "20\n",
        "(15−20)\n",
        "2\n",
        "\n",
        "​\n",
        " +\n",
        "20\n",
        "(17−20)\n",
        "2\n",
        "\n",
        "​\n",
        " +\n",
        "20\n",
        "(30−20)\n",
        "2\n",
        "\n",
        "​\n",
        " +\n",
        "20\n",
        "(22−20)\n",
        "2\n",
        "\n",
        "​\n",
        " +\n",
        "20\n",
        "(16−20)\n",
        "2\n",
        "\n",
        "​\n",
        " =6.75\n",
        "Degrees of Freedom:\n",
        "𝑑\n",
        "𝑓\n",
        "=\n",
        "4\n",
        "df=4\n",
        "\n",
        "Conclusion:\n",
        "\n",
        "Compare\n",
        "𝜒\n",
        "2\n",
        "χ\n",
        "2\n",
        "  (6.75) with critical value at\n",
        "𝑑\n",
        "𝑓\n",
        "=\n",
        "4\n",
        "df=4. Reject\n",
        "𝐻\n",
        "0\n",
        "H\n",
        "0\n",
        "​\n",
        "  if\n",
        "𝜒\n",
        "2\n",
        "χ\n",
        "2\n",
        "  is greater than the critical value; otherwise, do not reject\n",
        "𝐻\n",
        "0\n",
        "H\n",
        "0\n",
        "​\n",
        " .\n",
        "\n",
        "\n",
        "\n",
        "\n",
        "\n",
        "\n"
      ],
      "metadata": {
        "id": "Wy_I3hlIgCI5"
      }
    },
    {
      "cell_type": "code",
      "source": [
        "#38.Anova Test:\n",
        "To study the performance of three detergents and three different water temperatures the following whiteness readings were obtained with specially designed equipment.\n",
        "Water temp            Detergents A        Detergents B        Detergents C\n",
        "Cold Water                57                    55                67\n",
        "Worm Water                49                    52                68\n",
        "Hot Water                 54                    46                58"
      ],
      "metadata": {
        "id": "sbuvTJnghzgV"
      },
      "execution_count": null,
      "outputs": []
    },
    {
      "cell_type": "markdown",
      "source": [
        "Calculate Group Means:\n",
        "\n",
        "Cold Water Mean:\n",
        "57\n",
        "+\n",
        "55\n",
        "+\n",
        "67\n",
        "3\n",
        "=\n",
        "59.67\n",
        "3\n",
        "57+55+67\n",
        "​\n",
        " =59.67\n",
        "Warm Water Mean:\n",
        "49\n",
        "+\n",
        "52\n",
        "+\n",
        "68\n",
        "3\n",
        "=\n",
        "56.33\n",
        "3\n",
        "49+52+68\n",
        "​\n",
        " =56.33\n",
        "Hot Water Mean:\n",
        "54\n",
        "+\n",
        "46\n",
        "+\n",
        "58\n",
        "3\n",
        "=\n",
        "52.67\n",
        "3\n",
        "54+46+58\n",
        "​\n",
        " =52.67\n",
        "Calculate Overall Mean:\n",
        "\n",
        "Overall Mean:\n",
        "57\n",
        "+\n",
        "55\n",
        "+\n",
        "67\n",
        "+\n",
        "49\n",
        "+\n",
        "52\n",
        "+\n",
        "68\n",
        "+\n",
        "54\n",
        "+\n",
        "46\n",
        "+\n",
        "58\n",
        "9\n",
        "=\n",
        "56.33\n",
        "9\n",
        "57+55+67+49+52+68+54+46+58\n",
        "​\n",
        " =56.33\n",
        "Compute ANOVA Table:\n",
        "\n",
        "Between-Groups Variance (due to differences in water temperature)\n",
        "Within-Groups Variance (due to differences within each water temperature)\n",
        "Compare F-Statistic:\n",
        "\n",
        "Calculate the F-statistic and compare it with the critical value from the F-distribution table with appropriate degrees of freedom.\n",
        "Conclusion:\n",
        "\n",
        "If the F-statistic is greater than the critical value, there are significant differences between the groups; otherwise, there are no significant differences.\n",
        "\n",
        "\n",
        "\n",
        "\n",
        "\n",
        "\n"
      ],
      "metadata": {
        "id": "0mJx2-2lihxX"
      }
    },
    {
      "cell_type": "code",
      "source": [
        "#39.How would you create a basic Flask route that displays \"Hello, World!\" on the homepage?"
      ],
      "metadata": {
        "id": "fbtbGaWaipoB"
      },
      "execution_count": null,
      "outputs": []
    },
    {
      "cell_type": "code",
      "source": [
        "from flask import Flask\n",
        "\n",
        "app = Flask(__name__)\n",
        "\n",
        "@app.route('/')\n",
        "def home():\n",
        "    return 'Hello, World!'\n",
        "\n",
        "if __name__ == '__main__':\n",
        "    app.run(debug=True)\n"
      ],
      "metadata": {
        "colab": {
          "base_uri": "https://localhost:8080/"
        },
        "id": "010abfjLizXd",
        "outputId": "6d57ecc9-045e-4d3a-dbf8-66fb84283825"
      },
      "execution_count": null,
      "outputs": [
        {
          "metadata": {
            "tags": null
          },
          "name": "stdout",
          "output_type": "stream",
          "text": [
            " * Serving Flask app '__main__'\n",
            " * Debug mode: on\n"
          ]
        },
        {
          "metadata": {
            "tags": null
          },
          "name": "stderr",
          "output_type": "stream",
          "text": [
            "INFO:werkzeug:\u001b[31m\u001b[1mWARNING: This is a development server. Do not use it in a production deployment. Use a production WSGI server instead.\u001b[0m\n",
            " * Running on http://127.0.0.1:5000\n",
            "INFO:werkzeug:\u001b[33mPress CTRL+C to quit\u001b[0m\n",
            "INFO:werkzeug: * Restarting with stat\n"
          ]
        }
      ]
    },
    {
      "cell_type": "code",
      "source": [
        "#40.Explain how to set up a Flask application to handle form submissions using POST requests."
      ],
      "metadata": {
        "id": "WycK72u6i4b1"
      },
      "execution_count": null,
      "outputs": []
    },
    {
      "cell_type": "code",
      "source": [
        "from flask import Flask, request, render_template\n",
        "\n",
        "app = Flask(__name__)\n",
        "\n",
        "@app.route('/', methods=['GET', 'POST'])\n",
        "def handle_form():\n",
        "    if request.method == 'POST':\n",
        "        data = request.form['input_field_name']  # Replace with your form field name\n",
        "        return f'Form submitted with data: {data}'\n",
        "    return render_template('form.html')\n",
        "\n",
        "if __name__ == '__main__':\n",
        "    app.run(debug=True)\n"
      ],
      "metadata": {
        "id": "n7IuOifcjG5O"
      },
      "execution_count": null,
      "outputs": []
    },
    {
      "cell_type": "code",
      "source": [
        "#41.Write a Flask route that accepts a parameter in the URL and displays it on the page."
      ],
      "metadata": {
        "id": "-fUUfBsijeoF"
      },
      "execution_count": null,
      "outputs": []
    },
    {
      "cell_type": "code",
      "source": [
        "from flask import Flask\n",
        "\n",
        "app = Flask(__name__)\n",
        "\n",
        "@app.route('/<name>')\n",
        "def greet(name):\n",
        "    return f'Hello, {name}!'\n",
        "\n",
        "if __name__ == '__main__':\n",
        "    app.run(debug=True)\n"
      ],
      "metadata": {
        "id": "NTrsbNPSjcWB"
      },
      "execution_count": null,
      "outputs": []
    },
    {
      "cell_type": "code",
      "source": [
        "#42.How can you implement user authentication in a Flask application?"
      ],
      "metadata": {
        "id": "pYqts1pfjmj4"
      },
      "execution_count": null,
      "outputs": []
    },
    {
      "cell_type": "code",
      "source": [
        "from flask import Flask, render_template_string, redirect, request\n",
        "from flask_login import LoginManager, UserMixin, login_user, login_required, logout_user, current_user\n",
        "\n",
        "app = Flask(__name__)\n",
        "app.secret_key = 'secret_key'\n",
        "login_manager = LoginManager()\n",
        "login_manager.init_app(app)\n",
        "\n",
        "class User(UserMixin):\n",
        "    def __init__(self, id):\n",
        "        self.id = id\n",
        "\n",
        "users = {'user': 'password'}\n",
        "\n",
        "@login_manager.user_loader\n",
        "def load_user(user_id):\n",
        "    return User(user_id)\n",
        "\n",
        "@app.route('/login', methods=['POST', 'GET'])\n",
        "def login():\n",
        "    if request.method == 'POST':\n",
        "        username = request.form['username']\n",
        "        password = request.form['password']\n",
        "        if users.get(username) == password:\n",
        "            user = User(username)\n",
        "            login_user(user)\n",
        "            return redirect('/profile')\n",
        "    return render_template_string('''\n",
        "        <form method=\"post\">\n",
        "            <input type=\"text\" name=\"username\" placeholder=\"Username\">\n",
        "            <input type=\"password\" name=\"password\" placeholder=\"Password\">\n",
        "            <input type=\"submit\" value=\"Login\">\n",
        "        </form>\n",
        "    ''')\n",
        "\n",
        "@app.route('/profile')\n",
        "@login_required\n",
        "def profile():\n",
        "    return f'Hello, {current_user.id}!'\n",
        "\n",
        "@app.route('/logout')\n",
        "def logout():\n",
        "    logout_user()\n",
        "    return redirect('/login')\n",
        "\n",
        "if __name__ == '__main__':\n",
        "    app.run(debug=True)\n"
      ],
      "metadata": {
        "id": "JzaohH-ZkD4J"
      },
      "execution_count": null,
      "outputs": []
    },
    {
      "cell_type": "code",
      "source": [
        "#43.Describe the process of connecting a Flask app to a SQLite database using SQLAlchemy."
      ],
      "metadata": {
        "id": "c33AwUHTkGqJ"
      },
      "execution_count": null,
      "outputs": []
    },
    {
      "cell_type": "code",
      "source": [
        "from flask import Flask\n",
        "from flask_sqlalchemy import SQLAlchemy\n",
        "\n",
        "app = Flask(__name__)\n",
        "app.config['SQLALCHEMY_DATABASE_URI'] = 'sqlite:///example.db'\n",
        "app.config['SQLALCHEMY_TRACK_MODIFICATIONS'] = False\n",
        "db = SQLAlchemy(app)\n",
        "\n",
        "class User(db.Model):\n",
        "    id = db.Column(db.Integer, primary_key=True)\n",
        "    username = db.Column(db.String(80), unique=True, nullable=False)\n",
        "\n",
        "@app.route('/')\n",
        "def index():\n",
        "    return 'Hello, SQLAlchemy!'\n",
        "\n",
        "if __name__ == '__main__':\n",
        "    db.create_all()  # Create database tables\n",
        "    app.run(debug=True)\n"
      ],
      "metadata": {
        "id": "GDVhq3lKkRIy"
      },
      "execution_count": null,
      "outputs": []
    },
    {
      "cell_type": "code",
      "source": [
        "#44.How would you create a RESTful API endpoint in Flask that returns JSON data?"
      ],
      "metadata": {
        "id": "zN6NNAdfkTgA"
      },
      "execution_count": null,
      "outputs": []
    },
    {
      "cell_type": "code",
      "source": [
        "from flask import Flask, jsonify\n",
        "\n",
        "app = Flask(__name__)\n",
        "\n",
        "@app.route('/api/data')\n",
        "def get_data():\n",
        "    return jsonify({\"message\": \"Hello, World!\", \"status\": \"success\"})\n",
        "\n",
        "if __name__ == '__main__':\n",
        "    app.run(debug=True)\n"
      ],
      "metadata": {
        "id": "6Ic_gDT-kbZ_"
      },
      "execution_count": null,
      "outputs": []
    },
    {
      "cell_type": "code",
      "source": [
        "#45.Explain how to use Flask-WTF to create and validate forms in a Flask application."
      ],
      "metadata": {
        "id": "y29RQJjhkd5Z"
      },
      "execution_count": null,
      "outputs": []
    },
    {
      "cell_type": "code",
      "source": [
        "from flask import Flask, render_template_string, redirect, url_for\n",
        "from flask_wtf import FlaskForm\n",
        "from wtforms import StringField, SubmitField\n",
        "from wtforms.validators import DataRequired\n",
        "\n",
        "app = Flask(__name__)\n",
        "app.secret_key = 'secret_key'\n",
        "\n",
        "class MyForm(FlaskForm):\n",
        "    name = StringField('Name', validators=[DataRequired()])\n",
        "    submit = SubmitField('Submit')\n",
        "\n",
        "@app.route('/', methods=['GET', 'POST'])\n",
        "def index():\n",
        "    form = MyForm()\n",
        "    if form.validate_on_submit():\n",
        "        return redirect(url_for('success'))\n",
        "    return render_template_string('''\n",
        "        <form method=\"post\">\n",
        "            {{ form.hidden_tag() }}\n",
        "            {{ form.name.label }} {{ form.name() }}\n",
        "            {{ form.submit() }}\n",
        "        </form>\n",
        "    ''', form=form)\n",
        "\n",
        "@app.route('/success')\n",
        "def success():\n",
        "    return 'Form successfully submitted!'\n",
        "\n",
        "if __name__ == '__main__':\n",
        "    app.run(debug=True)\n"
      ],
      "metadata": {
        "id": "ZN4XImKGkoK2"
      },
      "execution_count": null,
      "outputs": []
    },
    {
      "cell_type": "code",
      "source": [
        "#46.How can you implement file uploads in a Flask application?"
      ],
      "metadata": {
        "id": "7v4kDnYSkqXm"
      },
      "execution_count": null,
      "outputs": []
    },
    {
      "cell_type": "code",
      "source": [
        "from flask import Flask, request, redirect, url_for\n",
        "import os\n",
        "\n",
        "app = Flask(__name__)\n",
        "app.config['UPLOAD_FOLDER'] = 'uploads'\n",
        "app.config['MAX_CONTENT_LENGTH'] = 16 * 1024 * 1024  # 16 MB limit\n",
        "\n",
        "if not os.path.exists(app.config['UPLOAD_FOLDER']):\n",
        "    os.makedirs(app.config['UPLOAD_FOLDER'])\n",
        "\n",
        "@app.route('/', methods=['GET', 'POST'])\n",
        "def upload_file():\n",
        "    if request.method == 'POST':\n",
        "        if 'file' not in request.files:\n",
        "            return 'No file part'\n",
        "        file = request.files['file']\n",
        "        if file.filename == '':\n",
        "            return 'No selected file'\n",
        "        file.save(os.path.join(app.config['UPLOAD_FOLDER'], file.filename))\n",
        "        return redirect(url_for('upload_file'))\n",
        "    return '''\n",
        "    <!doctype html>\n",
        "    <title>Upload File</title>\n",
        "    <h1>Upload File</h1>\n",
        "    <form method=post enctype=multipart/form-data>\n",
        "      <input type=file name=file>\n",
        "      <input type=submit value=Upload>\n",
        "    </form>\n",
        "    '''\n",
        "\n",
        "if __name__ == '__main__':\n",
        "    app.run(debug=True)\n"
      ],
      "metadata": {
        "id": "jT1YuuzxkybQ"
      },
      "execution_count": null,
      "outputs": []
    },
    {
      "cell_type": "code",
      "source": [
        "#47.Describe the steps to create a Flask blueprint and why you might use one."
      ],
      "metadata": {
        "id": "_ravt-HIk0cA"
      },
      "execution_count": null,
      "outputs": []
    },
    {
      "cell_type": "code",
      "source": [
        "from flask import Flask, Blueprint, render_template_string\n",
        "\n",
        "# Create a Blueprint\n",
        "my_blueprint = Blueprint('my_blueprint', __name__)\n",
        "\n",
        "@my_blueprint.route('/hello')\n",
        "def hello():\n",
        "    return 'Hello from Blueprint!'\n",
        "\n",
        "# Create the Flask app and register the Blueprint\n",
        "app = Flask(__name__)\n",
        "app.register_blueprint(my_blueprint, url_prefix='/blueprint')\n",
        "\n",
        "@app.route('/')\n",
        "def index():\n",
        "    return 'Hello from Main App!'\n",
        "\n",
        "if __name__ == '__main__':\n",
        "    app.run(debug=True)\n"
      ],
      "metadata": {
        "id": "6OzVVVP_lAQG"
      },
      "execution_count": null,
      "outputs": []
    },
    {
      "cell_type": "code",
      "source": [
        "#48.How would you deploy a Flask application to a production server using Gunicorn and Nginx?"
      ],
      "metadata": {
        "id": "jResIWvglHWF"
      },
      "execution_count": null,
      "outputs": []
    },
    {
      "cell_type": "code",
      "source": [
        "# 1. Install Gunicorn\n",
        "pip install gunicorn\n",
        "\n",
        "# 2. Run Gunicorn (replace `app:app` with your Flask app's module and instance)\n",
        "gunicorn -w 4 -b 0.0.0.0:8000 app:app\n",
        "\n",
        "# 3. Configure Nginx (create `/etc/nginx/sites-available/your_app` with the following content)\n",
        "cat <<EOL | sudo tee /etc/nginx/sites-available/your_app\n",
        "server {\n",
        "    listen 80;\n",
        "    server_name your_domain.com;\n",
        "\n",
        "    location / {\n",
        "        proxy_pass http://127.0.0.1:8000;\n",
        "        proxy_set_header Host \\$host;\n",
        "        proxy_set_header X-Real-IP \\$remote_addr;\n",
        "        proxy_set_header X-Forwarded-For \\$proxy_add_x_forwarded_for;\n",
        "        proxy_set_header X-Forwarded-Proto \\$scheme;\n",
        "    }\n",
        "}\n",
        "EOL\n",
        "\n",
        "# 4. Enable Nginx Configuration\n",
        "sudo ln -s /etc/nginx/sites-available/your_app /etc/nginx/sites-enabled/\n",
        "sudo systemctl restart nginx\n"
      ],
      "metadata": {
        "id": "Q20BW28tlUag"
      },
      "execution_count": null,
      "outputs": []
    },
    {
      "cell_type": "code",
      "source": [
        "#49. Make a fully functional web application using flask, Mangodb. Signup,Signin page.And after successfully login .Say hello Geeks message at webpage."
      ],
      "metadata": {
        "id": "kfUTX1DFgEva"
      },
      "execution_count": null,
      "outputs": []
    },
    {
      "cell_type": "code",
      "source": [
        "from flask import Flask, render_template_string, request, redirect, url_for, session\n",
        "from flask_pymongo import PyMongo\n",
        "from werkzeug.security import generate_password_hash, check_password_hash\n",
        "\n",
        "app = Flask(__name__)\n",
        "app.secret_key = 'secret_key'\n",
        "app.config['MONGO_URI'] = 'mongodb://localhost:27017/mydatabase'\n",
        "mongo = PyMongo(app)\n",
        "\n",
        "# Signup and Signin HTML\n",
        "signup_html = '''\n",
        "<form method=\"post\" action=\"/signup\">\n",
        "    <input type=\"text\" name=\"username\" placeholder=\"Username\" required>\n",
        "    <input type=\"password\" name=\"password\" placeholder=\"Password\" required>\n",
        "    <input type=\"submit\" value=\"Signup\">\n",
        "</form>\n",
        "<a href=\"/signin\">Signin</a>\n",
        "'''\n",
        "\n",
        "signin_html = '''\n",
        "<form method=\"post\" action=\"/signin\">\n",
        "    <input type=\"text\" name=\"username\" placeholder=\"Username\" required>\n",
        "    <input type=\"password\" name=\"password\" placeholder=\"Password\" required>\n",
        "    <input type=\"submit\" value=\"Signin\">\n",
        "</form>\n",
        "<a href=\"/signup\">Signup</a>\n",
        "'''\n",
        "\n",
        "@app.route('/signup', methods=['GET', 'POST'])\n",
        "def signup():\n",
        "    if request.method == 'POST':\n",
        "        username = request.form['username']\n",
        "        password = generate_password_hash(request.form['password'])\n",
        "        mongo.db.users.insert_one({'username': username, 'password': password})\n",
        "        return redirect(url_for('signin'))\n",
        "    return render_template_string(signup_html)\n",
        "\n",
        "@app.route('/signin', methods=['GET', 'POST'])\n",
        "def signin():\n",
        "    if request.method == 'POST':\n",
        "        username = request.form['username']\n",
        "        password = request.form['password']\n",
        "        user = mongo.db.users.find_one({'username': username})\n",
        "        if user and check_password_hash(user['password'], password):\n",
        "            session['username'] = username\n",
        "            return redirect(url_for('hello'))\n",
        "    return render_template_string(signin_html)\n",
        "\n",
        "@app.route('/hello')\n",
        "def hello():\n",
        "    if 'username' in session:\n",
        "        return f'Hello, {session[\"username\"]}!'\n",
        "    return redirect(url_for('signin'))\n",
        "\n",
        "if __name__ == '__main__':\n",
        "    app.run(debug=True)\n"
      ],
      "metadata": {
        "id": "tE59mpNSljJF"
      },
      "execution_count": null,
      "outputs": []
    }
  ]
}